{
 "cells": [
  {
   "cell_type": "code",
   "execution_count": 1,
   "metadata": {},
   "outputs": [],
   "source": [
    "import os, sys\n",
    "os.environ[\"CUDA_VISIBLE_DEVICES\"] = \"2\"\n",
    "sys.path.append(\"/home/Developer/NCSN-TF2.0/\")\n",
    "\n",
    "import utils, configs\n",
    "import tensorflow as tf\n",
    "\n",
    "from tensorflow.compat.v1 import ConfigProto\n",
    "from tensorflow.compat.v1 import InteractiveSession\n",
    "\n",
    "config = ConfigProto()\n",
    "config.gpu_options.allow_growth = True\n",
    "session = InteractiveSession(config=config)"
   ]
  },
  {
   "cell_type": "code",
   "execution_count": 2,
   "metadata": {},
   "outputs": [],
   "source": [
    "from ood_detection_helper import *\n"
   ]
  },
  {
   "cell_type": "code",
   "execution_count": 3,
   "metadata": {},
   "outputs": [
    {
     "name": "stdout",
     "output_type": "stream",
     "text": [
      "(1, 2048, 1024, 3)\n",
      "Model: \"res_net\"\n",
      "_________________________________________________________________\n",
      "Layer (type)                 Output Shape              Param #   \n",
      "=================================================================\n",
      "conv2d (Conv2D)              multiple                  3584      \n",
      "_________________________________________________________________\n",
      "conditional_residual_block ( multiple                  302848    \n",
      "_________________________________________________________________\n",
      "conditional_residual_block_1 multiple                  929792    \n",
      "_________________________________________________________________\n",
      "conditional_residual_block_2 multiple                  1195520   \n",
      "_________________________________________________________________\n",
      "conditional_residual_block_3 multiple                  3694592   \n",
      "_________________________________________________________________\n",
      "conditional_residual_block_4 multiple                  4750336   \n",
      "_________________________________________________________________\n",
      "conditional_residual_block_5 multiple                  4750336   \n",
      "_________________________________________________________________\n",
      "conditional_residual_block_6 multiple                  4750336   \n",
      "_________________________________________________________________\n",
      "conditional_residual_block_7 multiple                  1924352   \n",
      "_________________________________________________________________\n",
      "conditional_residual_block_8 multiple                  1195520   \n",
      "_________________________________________________________________\n",
      "conditional_residual_block_9 multiple                  487040    \n",
      "_________________________________________________________________\n",
      "conditional_instance_normali multiple                  3840      \n",
      "_________________________________________________________________\n",
      "conv2d_11 (Conv2D)           multiple                  3459      \n",
      "=================================================================\n",
      "Total params: 23,991,555\n",
      "Trainable params: 23,991,555\n",
      "Non-trainable params: 0\n",
      "_________________________________________________________________\n",
      "None\n"
     ]
    }
   ],
   "source": [
    "args = get_command_line_args([\"--checkpoint_dir=saved_models/\",\n",
    "                              \"--model=resnet\",\n",
    "                              \"--filters=128\",\n",
    "                              \"--dataset=highres\",\n",
    "                              \"--sigma_low=0.01\",\n",
    "                              \"--sigma_high=1\",\n",
    "                              \"--resume\",\n",
    "                              \"--batch_size=1\"\n",
    "                             ])\n",
    "configs.config_values = args\n",
    "\n",
    "save_dir, complete_model_name = utils.get_savemodel_dir() # \"longleaf_models/baseline64_fashion_mnist_SL0.001\", \"\"\n",
    "model, optimizer, step, _, _ = utils.try_load_model(save_dir, verbose=True)"
   ]
  },
  {
   "cell_type": "code",
   "execution_count": null,
   "metadata": {},
   "outputs": [],
   "source": []
  }
 ],
 "metadata": {
  "kernelspec": {
   "display_name": "Python 3",
   "language": "python",
   "name": "python3"
  },
  "language_info": {
   "codemirror_mode": {
    "name": "ipython",
    "version": 3
   },
   "file_extension": ".py",
   "mimetype": "text/x-python",
   "name": "python",
   "nbconvert_exporter": "python",
   "pygments_lexer": "ipython3",
   "version": "3.6.9"
  }
 },
 "nbformat": 4,
 "nbformat_minor": 4
}
