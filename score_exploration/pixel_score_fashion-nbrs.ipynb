{
 "cells": [
  {
   "cell_type": "code",
   "execution_count": 1,
   "metadata": {},
   "outputs": [],
   "source": [
    "# OPTIONAL: Load the \"autoreload\" extension so that code can change\n",
    "%load_ext autoreload\n",
    "\n",
    "# OPTIONAL: always reload modules so that as you change code in src, it gets loaded\n",
    "%autoreload 2\n",
    "\n",
    "%matplotlib inline"
   ]
  },
  {
   "cell_type": "code",
   "execution_count": 2,
   "metadata": {},
   "outputs": [
    {
     "data": {
      "text/plain": [
       "'2.3.1'"
      ]
     },
     "execution_count": 2,
     "metadata": {},
     "output_type": "execute_result"
    }
   ],
   "source": [
    "import os, sys\n",
    "os.environ[\"CUDA_VISIBLE_DEVICES\"] = \"-1\"\n",
    "sys.path.append(\"/home/Developer/NCSN-TF2.0/\")\n",
    "\n",
    "import PIL\n",
    "import pickle\n",
    "import utils, configs\n",
    "import argparse\n",
    "import seaborn as sns\n",
    "import pandas as pd\n",
    "import numpy as np\n",
    "import tensorflow as tf\n",
    "import tensorflow_datasets as tfds\n",
    "# import tensorflow_probability as tfp\n",
    "import matplotlib.pyplot as plt\n",
    "\n",
    "from tensorflow.compat.v1 import ConfigProto\n",
    "from tensorflow.compat.v1 import InteractiveSession\n",
    "from helper import plot_confusion_matrix, metrics\n",
    "\n",
    "from datasets.dataset_loader import  *\n",
    "from tqdm import tqdm\n",
    "from sklearn.metrics import classification_report, average_precision_score\n",
    "from sklearn.metrics import roc_auc_score, precision_recall_curve, auc\n",
    "\n",
    "from sklearn.mixture import GaussianMixture\n",
    "from sklearn.model_selection import GridSearchCV\n",
    "from sklearn.preprocessing import StandardScaler\n",
    "from sklearn.pipeline import Pipeline\n",
    "\n",
    "from PIL import Image\n",
    "from IPython.display import display\n",
    "from matplotlib.pyplot import imshow\n",
    "from datetime import datetime\n",
    "\n",
    "import seaborn as sns\n",
    "from mpl_toolkits.axes_grid1 import ImageGrid\n",
    "\n",
    "sns.set(style=\"darkgrid\")\n",
    "plt.rcParams['axes.titlesize'] = 18\n",
    "plt.rcParams['axes.labelsize'] = 16\n",
    "\n",
    "seed=42\n",
    "tf.random.set_seed(seed)\n",
    "np.random.seed(seed)\n",
    "\n",
    "tf.__version__"
   ]
  },
  {
   "cell_type": "code",
   "execution_count": 3,
   "metadata": {},
   "outputs": [
    {
     "name": "stdout",
     "output_type": "stream",
     "text": [
      "Num GPUs Available:  0\n"
     ]
    },
    {
     "data": {
      "text/plain": [
       "[]"
      ]
     },
     "execution_count": 3,
     "metadata": {},
     "output_type": "execute_result"
    }
   ],
   "source": [
    "print(\"Num GPUs Available: \", len(tf.config.experimental.list_physical_devices('GPU')))\n",
    "tf.config.experimental.list_physical_devices('GPU')"
   ]
  },
  {
   "cell_type": "code",
   "execution_count": 4,
   "metadata": {},
   "outputs": [],
   "source": [
    "from tensorflow.compat.v1 import ConfigProto\n",
    "from tensorflow.compat.v1 import InteractiveSession\n",
    "\n",
    "config = ConfigProto()\n",
    "config.gpu_options.allow_growth = True\n",
    "session = InteractiveSession(config=config)"
   ]
  },
  {
   "cell_type": "code",
   "execution_count": 5,
   "metadata": {},
   "outputs": [],
   "source": [
    "def pixel_reshape(X):\n",
    "    X = X.reshape(*X.shape[0:2], -1)\n",
    "    X = np.swapaxes(X, 0,2)\n",
    "    return X"
   ]
  },
  {
   "cell_type": "code",
   "execution_count": 6,
   "metadata": {},
   "outputs": [
    {
     "name": "stdout",
     "output_type": "stream",
     "text": [
      "(1, 28, 28, 1)\n",
      "Model: \"functional_1\"\n",
      "__________________________________________________________________________________________________\n",
      "Layer (type)                    Output Shape         Param #     Connected to                     \n",
      "==================================================================================================\n",
      "images (InputLayer)             [(None, 28, 28, 1)]  0                                            \n",
      "__________________________________________________________________________________________________\n",
      "conv2d (Conv2D)                 (None, 28, 28, 64)   640         images[0][0]                     \n",
      "__________________________________________________________________________________________________\n",
      "idx_sigmas (InputLayer)         [(None,)]            0                                            \n",
      "__________________________________________________________________________________________________\n",
      "conditional_full_pre_activation (None, 28, 28, 64)   77696       conv2d[0][0]                     \n",
      "                                                                 idx_sigmas[0][0]                 \n",
      "__________________________________________________________________________________________________\n",
      "conditional_full_pre_activation (None, 14, 14, 128)  235520      conditional_full_pre_activation_b\n",
      "                                                                 idx_sigmas[0][0]                 \n",
      "__________________________________________________________________________________________________\n",
      "conditional_full_pre_activation (None, 14, 14, 128)  302848      conditional_full_pre_activation_b\n",
      "                                                                 idx_sigmas[0][0]                 \n",
      "__________________________________________________________________________________________________\n",
      "conditional_full_pre_activation (None, 14, 14, 128)  302848      conditional_full_pre_activation_b\n",
      "                                                                 idx_sigmas[0][0]                 \n",
      "__________________________________________________________________________________________________\n",
      "refine_block_3 (RefineBlock)    (None, 14, 14, 128)  1211392     conditional_full_pre_activation_b\n",
      "                                                                 idx_sigmas[0][0]                 \n",
      "__________________________________________________________________________________________________\n",
      "refine_block_2 (RefineBlock)    (None, 14, 14, 128)  2119936     conditional_full_pre_activation_b\n",
      "                                                                 refine_block_3[0][0]             \n",
      "                                                                 idx_sigmas[0][0]                 \n",
      "__________________________________________________________________________________________________\n",
      "refine_block_1 (RefineBlock)    (None, 14, 14, 128)  2119936     conditional_full_pre_activation_b\n",
      "                                                                 refine_block_2[0][0]             \n",
      "                                                                 idx_sigmas[0][0]                 \n",
      "__________________________________________________________________________________________________\n",
      "refine_block (RefineBlock)      (None, 28, 28, 64)   746304      conditional_full_pre_activation_b\n",
      "                                                                 refine_block_1[0][0]             \n",
      "                                                                 idx_sigmas[0][0]                 \n",
      "__________________________________________________________________________________________________\n",
      "conditional_instance_normalizat (None, 28, 28, 64)   1920        refine_block[0][0]               \n",
      "                                                                 idx_sigmas[0][0]                 \n",
      "__________________________________________________________________________________________________\n",
      "tf_op_layer_Elu (TensorFlowOpLa [(None, 28, 28, 64)] 0           conditional_instance_normalizatio\n",
      "__________________________________________________________________________________________________\n",
      "conv2d_21 (Conv2D)              (None, 28, 28, 1)    577         tf_op_layer_Elu[0][0]            \n",
      "==================================================================================================\n",
      "Total params: 7,119,617\n",
      "Trainable params: 7,119,617\n",
      "Non-trainable params: 0\n",
      "__________________________________________________________________________________________________\n",
      "None\n",
      "Trying to load latest model from /home/Developer/NCSN-TF2.0/longleaf_models/refinenet64_fashion_mnist_L10_SH1e+00_SL1e-02/train_100_0/\n",
      "Loaded model: /home/Developer/NCSN-TF2.0/longleaf_models/refinenet64_fashion_mnist_L10_SH1e+00_SL1e-02/train_100_0/200413-175149_step_200000-1\n",
      "WARNING:tensorflow:Unresolved object in checkpoint: (root).optimizer.iter\n",
      "WARNING:tensorflow:Unresolved object in checkpoint: (root).optimizer.beta_1\n",
      "WARNING:tensorflow:Unresolved object in checkpoint: (root).optimizer.beta_2\n",
      "WARNING:tensorflow:Unresolved object in checkpoint: (root).optimizer.decay\n",
      "WARNING:tensorflow:Unresolved object in checkpoint: (root).optimizer.learning_rate\n",
      "WARNING:tensorflow:A checkpoint was restored (e.g. tf.train.Checkpoint.restore or tf.keras.Model.load_weights) but not all checkpointed values were used. See above for specific issues. Use expect_partial() on the load status object, e.g. tf.train.Checkpoint.restore(...).expect_partial(), to silence these warnings, or use assert_consumed() to make the check explicit. See https://www.tensorflow.org/guide/checkpoint#loading_mechanics for details.\n"
     ]
    }
   ],
   "source": [
    "from ood_detection_helper import *\n",
    "\n",
    "model = load_model(inlier_name=\"fashion_mnist\", checkpoint=-1, filters=64,\n",
    "                   save_path=\"/home/Developer/NCSN-TF2.0/longleaf_models/\",\n",
    "                   split=\"100,0\"\n",
    "                  )\n",
    "model.trainable = False"
   ]
  },
  {
   "cell_type": "code",
   "execution_count": 7,
   "metadata": {},
   "outputs": [
    {
     "name": "stdout",
     "output_type": "stream",
     "text": [
      "Model: \"functional_3\"\n",
      "__________________________________________________________________________________________________\n",
      "Layer (type)                    Output Shape         Param #     Connected to                     \n",
      "==================================================================================================\n",
      "images (InputLayer)             [(None, 28, 28, 1)]  0                                            \n",
      "__________________________________________________________________________________________________\n",
      "conv2d (Conv2D)                 (None, 28, 28, 64)   640         images[0][0]                     \n",
      "__________________________________________________________________________________________________\n",
      "idx_sigmas (InputLayer)         [(None,)]            0                                            \n",
      "__________________________________________________________________________________________________\n",
      "conditional_full_pre_activation (None, 28, 28, 64)   77696       conv2d[1][0]                     \n",
      "                                                                 idx_sigmas[0][0]                 \n",
      "__________________________________________________________________________________________________\n",
      "conditional_full_pre_activation (None, 14, 14, 128)  235520      conditional_full_pre_activation_b\n",
      "                                                                 idx_sigmas[0][0]                 \n",
      "__________________________________________________________________________________________________\n",
      "conditional_full_pre_activation (None, 14, 14, 128)  302848      conditional_full_pre_activation_b\n",
      "                                                                 idx_sigmas[0][0]                 \n",
      "__________________________________________________________________________________________________\n",
      "conditional_full_pre_activation (None, 14, 14, 128)  302848      conditional_full_pre_activation_b\n",
      "                                                                 idx_sigmas[0][0]                 \n",
      "__________________________________________________________________________________________________\n",
      "refine_block_3 (RefineBlock)    (None, 14, 14, 128)  1211392     conditional_full_pre_activation_b\n",
      "                                                                 idx_sigmas[0][0]                 \n",
      "__________________________________________________________________________________________________\n",
      "refine_block_2 (RefineBlock)    (None, 14, 14, 128)  2119936     conditional_full_pre_activation_b\n",
      "                                                                 refine_block_3[1][0]             \n",
      "                                                                 idx_sigmas[0][0]                 \n",
      "__________________________________________________________________________________________________\n",
      "refine_block_1 (RefineBlock)    (None, 14, 14, 128)  2119936     conditional_full_pre_activation_b\n",
      "                                                                 refine_block_2[1][0]             \n",
      "                                                                 idx_sigmas[0][0]                 \n",
      "__________________________________________________________________________________________________\n",
      "refine_block (RefineBlock)      (None, 28, 28, 64)   746304      conditional_full_pre_activation_b\n",
      "                                                                 refine_block_1[1][0]             \n",
      "                                                                 idx_sigmas[0][0]                 \n",
      "__________________________________________________________________________________________________\n",
      "conditional_instance_normalizat (None, 28, 28, 64)   1920        refine_block[1][0]               \n",
      "                                                                 idx_sigmas[0][0]                 \n",
      "__________________________________________________________________________________________________\n",
      "tf_op_layer_Elu_1 (TensorFlowOp [(None, 28, 28, 64)] 0           conditional_instance_normalizatio\n",
      "__________________________________________________________________________________________________\n",
      "conv2d_21 (Conv2D)              (None, 28, 28, 1)    577         tf_op_layer_Elu_1[0][0]          \n",
      "==================================================================================================\n",
      "Total params: 7,119,617\n",
      "Trainable params: 0\n",
      "Non-trainable params: 7,119,617\n",
      "__________________________________________________________________________________________________\n"
     ]
    }
   ],
   "source": [
    "model.summary()"
   ]
  },
  {
   "cell_type": "code",
   "execution_count": 8,
   "metadata": {},
   "outputs": [
    {
     "name": "stdout",
     "output_type": "stream",
     "text": [
      "Split: ['train', 'test']\n"
     ]
    }
   ],
   "source": [
    "TEST_BATCH = 3\n",
    "\n",
    "@tf.function\n",
    "def preproc(x):\n",
    "    x = tf.image.rgb_to_grayscale(x)\n",
    "    x = tf.image.resize(x, size=[28,28])\n",
    "    x/=255\n",
    "    return x\n",
    "\n",
    "\n",
    "def load_dataset(name):\n",
    "    data_generators = tfds.load(name=name, batch_size=-1,\n",
    "                                data_dir=\"../data\",\n",
    "                                shuffle_files=True,\n",
    "                                split = [\"test\"]\n",
    "                               )\n",
    "    testset = tf.data.Dataset.from_tensor_slices(data_generators[0]['image'])\n",
    "    testset = testset.map(lambda x: x/255, num_parallel_calls=AUTOTUNE)\n",
    "    testset = testset.batch(TEST_BATCH).take(1)\n",
    "    \n",
    "    return testset\n",
    "\n",
    "with tf.device('CPU'):\n",
    "    # load dataset from tfds (or use downloaded version if exists)\n",
    "    mnist_test = load_dataset(\"mnist\")\n",
    "    cifar_test = load_dataset(\"cifar10\").map(preproc, num_parallel_calls=AUTOTUNE)\n",
    "    \n",
    "    fashion_train, fashion_test = get_train_test_data(\"fashion_mnist\")\n",
    "    fashion_train = fashion_train.batch(TEST_BATCH)\n",
    "    fashion_test = fashion_test.batch(TEST_BATCH).take(1)"
   ]
  },
  {
   "cell_type": "code",
   "execution_count": 9,
   "metadata": {},
   "outputs": [],
   "source": [
    "# SIGMAS = utils.get_sigma_levels()\n",
    "# sigma = tf.Variable(tf.ones([x.shape[0]], dtype=tf.dtypes.int32))"
   ]
  },
  {
   "cell_type": "code",
   "execution_count": 10,
   "metadata": {},
   "outputs": [],
   "source": [
    "# inlier = next(iter(fashion_train))\n",
    "# ood = next(iter(mnist_test))\n",
    "# inlier.shape, ood.shape"
   ]
  },
  {
   "cell_type": "code",
   "execution_count": 11,
   "metadata": {},
   "outputs": [],
   "source": [
    "def plot_gradients(x):\n",
    "    x=tf.Variable(x)\n",
    "    ds_dx = []\n",
    "\n",
    "    for idx,sigma_val in enumerate(SIGMAS):\n",
    "        sigma = idx*tf.ones([x.shape[0]], dtype=tf.dtypes.int32)\n",
    "        with tf.GradientTape() as tape:\n",
    "            score = model([x, sigma]) * sigma_val\n",
    "        grad = tape.gradient(score, x)\n",
    "        ds_dx.append(grad.numpy())\n",
    "        # ds_dsi = tape.gradient(score, sigma)\n",
    "\n",
    "    fig = plt.figure(figsize=(12, 12.))\n",
    "    grid = ImageGrid(fig, 111,  # similar to subplot(111)\n",
    "                     nrows_ncols=(3, 3),  # creates 2x2 grid of axes\n",
    "                     axes_pad=0.5,  # pad between axes in inch.\n",
    "    #                  share_all=True,\n",
    "                     cbar_location=\"right\",\n",
    "                     cbar_mode=\"each\",\n",
    "                     cbar_size=\"5%\",\n",
    "                     cbar_pad=\"2%\",\n",
    "                     )\n",
    "    ds_dx = np.array(ds_dx)\n",
    "    for i, (ax, cax, ds) in enumerate(zip(grid, grid.cbar_axes, ds_dx)):\n",
    "        # Iterating over the grid returns the Axes.\n",
    "        im = ds[0,...,-1] ** 2\n",
    "        im = ax.imshow(im)\n",
    "        fig.colorbar(im, cax=cax)\n",
    "        ax.grid(False)\n",
    "\n",
    "    plt.show()\n",
    "    \n",
    "    return ds_dx"
   ]
  },
  {
   "cell_type": "markdown",
   "metadata": {},
   "source": [
    "### Getting Score Distributions"
   ]
  },
  {
   "cell_type": "code",
   "execution_count": 12,
   "metadata": {},
   "outputs": [],
   "source": [
    "# score_dict = {\"train\": train_pixel_scores,\n",
    "#               \"test\":  fashion_pixel_scores,\n",
    "#               \"mnist\": mnist_pixel_scores,\n",
    "#               \"cifar\": cifar_pixel_scores\n",
    "#              }\n",
    "\n",
    "# with open(\"fashion_pixel_scores.p\", \"wb\") as f:\n",
    "#     pickle.dump(score_dict, f)\n",
    "\n",
    "with open(\"fashion_pixel_scores.p\", \"rb\") as f:\n",
    "    score_dict = pickle.load(f)"
   ]
  },
  {
   "cell_type": "code",
   "execution_count": 13,
   "metadata": {},
   "outputs": [
    {
     "data": {
      "text/plain": [
       "(784, 60000, 10)"
      ]
     },
     "execution_count": 13,
     "metadata": {},
     "output_type": "execute_result"
    }
   ],
   "source": [
    "train_pixel_scores = score_dict[\"train\"]\n",
    "fashion_pixel_scores = score_dict[\"test\"]\n",
    "mnist_pixel_scores = score_dict[\"mnist\"]\n",
    "cifar_pixel_scores = score_dict[\"cifar\"]\n",
    "train_pixel_scores.shape"
   ]
  },
  {
   "cell_type": "code",
   "execution_count": 16,
   "metadata": {},
   "outputs": [],
   "source": [
    "from scipy.stats import percentileofscore as ps\n",
    "\n",
    "make_image = lambda x:  np.swapaxes(x, 0,1).reshape(x.shape[1], 28,28)"
   ]
  },
  {
   "cell_type": "code",
   "execution_count": 177,
   "metadata": {},
   "outputs": [],
   "source": [
    "X_train_images = X_train.reshape(28,28, X_train.shape[1], X_train.shape[2])"
   ]
  },
  {
   "cell_type": "code",
   "execution_count": 188,
   "metadata": {},
   "outputs": [],
   "source": [
    "'''\n",
    "Outputs a tensor of size (d*d) x n_samples x 3*3*n_dims\n",
    "'''\n",
    "def kernel(x, img_sz=28):\n",
    "    \n",
    "    # Define output matrix\n",
    "    outshape= (img_sz*img_sz, x.shape[1], 3*3*x.shape[2])\n",
    "    out = np.zeros(outshape)\n",
    "    \n",
    "    # Reshape and pad with zeros\n",
    "    px = x.reshape(img_sz,img_sz, x.shape[1], x.shape[2])\n",
    "    px = np.pad(px, ((1,1), (1,1), (0,0), (0,0)))\n",
    "#     print(px.shape)\n",
    "    \n",
    "    idx = 0\n",
    "    for i in range(1, px.shape[0]-1):\n",
    "        for j in range(1, px.shape[1]-1):\n",
    "            feat_vec = px[i-1:i+2,i-1:i+2, ...]\n",
    "#             print(feat_vec.shape)\n",
    "            \n",
    "            # Features of neighbours in a 3x3 grid\n",
    "            feat_vec = feat_vec.reshape(-1, x.shape[1],x.shape[2])\n",
    "#             print(feat_vec.shape)\n",
    "            feat_vec = np.concatenate(feat_vec,axis=1)\n",
    "#             print(feat_vec.shape)\n",
    "            out[idx, ...] = feat_vec\n",
    "            idx += 1\n",
    "    return out"
   ]
  },
  {
   "cell_type": "code",
   "execution_count": 191,
   "metadata": {},
   "outputs": [
    {
     "name": "stdout",
     "output_type": "stream",
     "text": [
      "CPU times: user 7.59 s, sys: 2.44 s, total: 10 s\n",
      "Wall time: 10 s\n"
     ]
    }
   ],
   "source": [
    "%%time\n",
    "X_train_nbrs = kernel(train_pixel_scores)\n",
    "fashion_nbrs = kernel(fashion_pixel_scores)\n",
    "mnist_nbrs = kernel(mnist_pixel_scores)\n",
    "cifar_nbrs = kernel(cifar_pixel_scores)"
   ]
  },
  {
   "cell_type": "code",
   "execution_count": 196,
   "metadata": {},
   "outputs": [
    {
     "data": {
      "text/plain": [
       "(784, 60000, 90)"
      ]
     },
     "execution_count": 196,
     "metadata": {},
     "output_type": "execute_result"
    }
   ],
   "source": [
    "X_train_nbrs.shape"
   ]
  },
  {
   "cell_type": "code",
   "execution_count": 206,
   "metadata": {},
   "outputs": [],
   "source": [
    "from sklearn.neighbors import NearestNeighbors\n",
    "from concurrent.futures import ThreadPoolExecutor, ProcessPoolExecutor\n",
    "CPUS = 6\n",
    "N_NEIGHBOURS = 3\n",
    "\n",
    "def trainer(X):\n",
    "\n",
    "    chunksize = 4\n",
    "    # progress_bar = tqdm(range(len(models)))\n",
    "    models = []\n",
    "\n",
    "    def train_fn(i):\n",
    "        return NearestNeighbors(n_neighbors=N_NEIGHBOURS,\n",
    "                             algorithm='kd_tree').fit(X[i])\n",
    "\n",
    "    with ThreadPoolExecutor(max_workers = CPUS) as exc:\n",
    "        result = list(exc.map(train_fn, list(range(len(X)))))\n",
    "    \n",
    "    return np.array(result)"
   ]
  },
  {
   "cell_type": "code",
   "execution_count": 207,
   "metadata": {},
   "outputs": [],
   "source": [
    "def get_pixel_scores(x):\n",
    "\n",
    "    chunksize = 4\n",
    "    # progress_bar = tqdm(range(len(models)))\n",
    "\n",
    "    def score_fn(i):\n",
    "        return models[i].kneighbors(x[i])[0][:, -1]\n",
    "\n",
    "\n",
    "    with ThreadPoolExecutor(max_workers = CPUS) as exc:\n",
    "    #     for idx in progress_bar:\n",
    "    #         result = list(exc.map(preprocessor,\n",
    "    #                               paths[idx_ : idx_+chunksize]))\n",
    "    #         progress_bar.set_description(\"# Processed: {:d}\".format(idx_))\n",
    "\n",
    "        result = list(exc.map(score_fn, list(range(len(models)))))\n",
    "    \n",
    "    return np.array(result)"
   ]
  },
  {
   "cell_type": "code",
   "execution_count": 208,
   "metadata": {},
   "outputs": [
    {
     "name": "stdout",
     "output_type": "stream",
     "text": [
      "CPU times: user 1h 37min, sys: 2min 59s, total: 1h 40min\n",
      "Wall time: 1h 36min 28s\n"
     ]
    }
   ],
   "source": [
    "%%time\n",
    "models = trainer(X_train_nbrs)"
   ]
  },
  {
   "cell_type": "code",
   "execution_count": 199,
   "metadata": {},
   "outputs": [
    {
     "name": "stdout",
     "output_type": "stream",
     "text": [
      "CPU times: user 1h 38min 39s, sys: 10.7 s, total: 1h 38min 49s\n",
      "Wall time: 1h 38min 52s\n"
     ]
    }
   ],
   "source": [
    "%%time\n",
    "\n",
    "models = []\n",
    "for i in range(X_train.shape[0]):\n",
    "    models.append(\n",
    "        NearestNeighbors(n_neighbors=N_NEIGHBOURS,\n",
    "                         algorithm='kd_tree').fit(X_train_nbrs[i])\n",
    "    )"
   ]
  },
  {
   "cell_type": "code",
   "execution_count": 193,
   "metadata": {},
   "outputs": [],
   "source": [
    "from scipy.stats import percentileofscore as ps\n",
    "\n",
    "make_image = lambda x:  np.swapaxes(x, 0,1).reshape(x.shape[1], 28,28)"
   ]
  },
  {
   "cell_type": "code",
   "execution_count": 59,
   "metadata": {},
   "outputs": [],
   "source": [
    "# def get_pixel_scores(x):\n",
    "#     kd_scores = []\n",
    "\n",
    "#     for i in range(x.shape[0]):\n",
    "#         kd_scores.append(\n",
    "#             models[i].kneighbors(x[i])[0][:, -1]\n",
    "#         )\n",
    "\n",
    "#     kd_scores = np.array(kd_scores)\n",
    "#     return kd_scores"
   ]
  },
  {
   "cell_type": "code",
   "execution_count": 25,
   "metadata": {
    "collapsed": true,
    "jupyter": {
     "outputs_hidden": true
    }
   },
   "outputs": [
    {
     "ename": "NameError",
     "evalue": "name 'make_image' is not defined",
     "output_type": "error",
     "traceback": [
      "\u001b[0;31m\u001b[0m",
      "\u001b[0;31mNameError\u001b[0mTraceback (most recent call last)",
      "\u001b[0;32m<timed exec>\u001b[0m in \u001b[0;36m<module>\u001b[0;34m\u001b[0m\n",
      "\u001b[0;31mNameError\u001b[0m: name 'make_image' is not defined"
     ]
    }
   ],
   "source": [
    "%%time\n",
    "train_scores = {}\n",
    "train_scores[\"pixel_kd\"] = get_pixel_scores(train_pixel_scores)"
   ]
  },
  {
   "cell_type": "code",
   "execution_count": 29,
   "metadata": {},
   "outputs": [],
   "source": [
    "train_scores[\"images_kd\"] = make_image(train_scores[\"pixel_kd\"])"
   ]
  },
  {
   "cell_type": "code",
   "execution_count": 201,
   "metadata": {},
   "outputs": [
    {
     "name": "stdout",
     "output_type": "stream",
     "text": [
      "CPU times: user 1h 5min 57s, sys: 12.2 s, total: 1h 6min 10s\n",
      "Wall time: 16min 34s\n"
     ]
    }
   ],
   "source": [
    "%%time\n",
    "fashion_scores = {}\n",
    "fashion_scores[\"pixel_kd\"] = get_pixel_scores(fashion_nbrs)\n",
    "fashion_scores[\"images_kd\"] = make_image(fashion_scores[\"pixel_kd\"])"
   ]
  },
  {
   "cell_type": "code",
   "execution_count": 202,
   "metadata": {},
   "outputs": [
    {
     "data": {
      "text/plain": [
       "<matplotlib.colorbar.Colorbar at 0x7fa35c1545f8>"
      ]
     },
     "execution_count": 202,
     "metadata": {},
     "output_type": "execute_result"
    },
    {
     "data": {
      "image/png": "[encoded data removed]",
      "text/plain": [
       "<Figure size 432x288 with 2 Axes>"
      ]
     },
     "metadata": {},
     "output_type": "display_data"
    }
   ],
   "source": [
    "plt.imshow(fashion_scores[\"images_kd\"][42])\n",
    "plt.colorbar()"
   ]
  },
  {
   "cell_type": "code",
   "execution_count": null,
   "metadata": {},
   "outputs": [],
   "source": [
    "fashion_scores"
   ]
  },
  {
   "cell_type": "code",
   "execution_count": 209,
   "metadata": {},
   "outputs": [
    {
     "name": "stdout",
     "output_type": "stream",
     "text": [
      "CPU times: user 1h 7min 46s, sys: 7.06 s, total: 1h 7min 53s\n",
      "Wall time: 11min 21s\n"
     ]
    }
   ],
   "source": [
    "%%time\n",
    "mnist_scores = {}\n",
    "mnist_scores[\"pixel_kd\"] = get_pixel_scores(mnist_nbrs)\n",
    "mnist_scores[\"images_kd\"] = make_image(mnist_scores[\"pixel_kd\"])"
   ]
  },
  {
   "cell_type": "code",
   "execution_count": 210,
   "metadata": {},
   "outputs": [
    {
     "data": {
      "text/plain": [
       "<matplotlib.colorbar.Colorbar at 0x7fa35c5c6a58>"
      ]
     },
     "execution_count": 210,
     "metadata": {},
     "output_type": "execute_result"
    },
    {
     "data": {
      "image/png": "[encoded data removed]",
      "text/plain": [
       "<Figure size 432x288 with 2 Axes>"
      ]
     },
     "metadata": {},
     "output_type": "display_data"
    }
   ],
   "source": [
    "plt.imshow(mnist_scores[\"images_kd\"][0])\n",
    "plt.colorbar()"
   ]
  },
  {
   "cell_type": "code",
   "execution_count": null,
   "metadata": {},
   "outputs": [],
   "source": [
    "mnist_pixel_scores.shape, cifar_pixel_scores.shape"
   ]
  },
  {
   "cell_type": "code",
   "execution_count": 35,
   "metadata": {},
   "outputs": [
    {
     "name": "stdout",
     "output_type": "stream",
     "text": [
      "CPU times: user 14.7 s, sys: 1.59 s, total: 16.3 s\n",
      "Wall time: 4.16 s\n"
     ]
    }
   ],
   "source": [
    "%%time\n",
    "cifar_scores = {}\n",
    "cifar_scores[\"pixel_kd\"] = get_pixel_scores(cifar_nbrs)\n",
    "cifar_scores[\"images_kd\"] = make_image(cifar_scores[\"pixel_kd\"])"
   ]
  },
  {
   "cell_type": "code",
   "execution_count": 36,
   "metadata": {},
   "outputs": [
    {
     "data": {
      "text/plain": [
       "<matplotlib.colorbar.Colorbar at 0x7f097c2b6828>"
      ]
     },
     "execution_count": 36,
     "metadata": {},
     "output_type": "execute_result"
    },
    {
     "data": {
      "image/png": "[encoded data removed]",
      "text/plain": [
       "<Figure size 432x288 with 2 Axes>"
      ]
     },
     "metadata": {},
     "output_type": "display_data"
    }
   ],
   "source": [
    "plt.imshow(cifar_scores[\"images_kd\"][0])\n",
    "plt.colorbar()"
   ]
  },
  {
   "cell_type": "code",
   "execution_count": 39,
   "metadata": {},
   "outputs": [
    {
     "data": {
      "text/plain": [
       "(784, 512)"
      ]
     },
     "execution_count": 39,
     "metadata": {},
     "output_type": "execute_result"
    }
   ],
   "source": [
    "fashion_scores[\"pixel_kd\"].shape"
   ]
  },
  {
   "cell_type": "code",
   "execution_count": 66,
   "metadata": {},
   "outputs": [
    {
     "name": "stdout",
     "output_type": "stream",
     "text": [
      "CPU times: user 39 µs, sys: 0 ns, total: 39 µs\n",
      "Wall time: 55.8 µs\n"
     ]
    }
   ],
   "source": [
    "%%time\n",
    "from scipy.stats import percentileofscore as ps\n",
    "\n",
    "baseline = fashion_scores[\"pixel_kd\"]\n",
    "\n",
    "def percentile_score(x):\n",
    "    pixel_ps = [ps(baseline[i], s) for i,s in (enumerate(x))]\n",
    "    pixel_ps = np.array(pixel_ps).reshape(28,28)\n",
    "    return pixel_ps"
   ]
  },
  {
   "cell_type": "code",
   "execution_count": 73,
   "metadata": {},
   "outputs": [],
   "source": [
    "thresh = 80\n",
    "with ThreadPoolExecutor(max_workers = CPUS) as exc:\n",
    "    ps_results = np.array(list(exc.map(percentile_score, mnist_scores[\"pixel_kd\"].T[:4])))\n",
    "    mnist_scores[\"images_kd_ps\"] = ps_results\n",
    "    mnist_scores[\"images_kd_ps\"][ps_results < thresh] = 0\n",
    "\n",
    "with ThreadPoolExecutor(max_workers = CPUS) as exc:\n",
    "    ps_results = np.array(list(exc.map(percentile_score, fashion_scores[\"pixel_kd\"].T[:4])))\n",
    "    fashion_scores[\"images_kd_ps\"] = ps_results\n",
    "    fashion_scores[\"images_kd_ps\"][ps_results < thresh] = 0"
   ]
  },
  {
   "cell_type": "code",
   "execution_count": 74,
   "metadata": {},
   "outputs": [
    {
     "data": {
      "image/png": "[encoded data removed]",
      "text/plain": [
       "<Figure size 432x288 with 1 Axes>"
      ]
     },
     "metadata": {},
     "output_type": "display_data"
    },
    {
     "data": {
      "text/plain": [
       "<matplotlib.colorbar.Colorbar at 0x7f097c2c60f0>"
      ]
     },
     "execution_count": 74,
     "metadata": {},
     "output_type": "execute_result"
    },
    {
     "data": {
      "image/png": "[encoded data removed]",
      "text/plain": [
       "<Figure size 432x288 with 2 Axes>"
      ]
     },
     "metadata": {},
     "output_type": "display_data"
    }
   ],
   "source": [
    "plt.imshow(mnist_scores[\"images_kd_ps\"][0])\n",
    "plt.show()\n",
    "plt.imshow(fashion_scores[\"images_kd_ps\"][0])\n",
    "plt.colorbar()"
   ]
  },
  {
   "cell_type": "code",
   "execution_count": 83,
   "metadata": {},
   "outputs": [],
   "source": [
    "fashion_samples = next(iter(fashion_test)).numpy()[...,-1]\n",
    "mnist_samples = next(iter(mnist_test)).numpy()[...,-1]"
   ]
  },
  {
   "cell_type": "code",
   "execution_count": 235,
   "metadata": {},
   "outputs": [
    {
     "name": "stdout",
     "output_type": "stream",
     "text": [
      "1.9 µs ± 341 ns per loop (mean ± std. dev. of 7 runs, 100000 loops each)\n"
     ]
    }
   ],
   "source": [
    "%timeit [x for sublist in list(zip([0,1,2],[3,4,5])) for x in sublist]"
   ]
  },
  {
   "cell_type": "code",
   "execution_count": 77,
   "metadata": {},
   "outputs": [
    {
     "data": {
      "image/png": "[encoded data removed]",
      "text/plain": [
       "<Figure size 864x864 with 18 Axes>"
      ]
     },
     "metadata": {},
     "output_type": "display_data"
    }
   ],
   "source": [
    "from mpl_toolkits.axes_grid1 import ImageGrid\n",
    "N=3\n",
    "images = list(zip(mnist_samples[:N],\n",
    "                  mnist_scores[\"images_kd\"][:N],\n",
    "                  mnist_scores[\"images_kd_ps\"][:N]\n",
    "                 ))\n",
    "py_flat = lambda l: [x for sublist in l for x in sublist]\n",
    "images = py_flat(images)\n",
    "\n",
    "from mpl_toolkits.axes_grid1 import make_axes_locatable\n",
    "\n",
    "fig = plt.figure(figsize=(12, 12.))\n",
    "grid = ImageGrid(fig, 111,  # similar to subplot(111)\n",
    "                 nrows_ncols=(3, 3),  # creates 2x2 grid of axes\n",
    "                 axes_pad=0.5,  # pad between axes in inch.\n",
    "#                  share_all=True,\n",
    "                 cbar_location=\"right\",\n",
    "                 cbar_mode=\"each\",\n",
    "                 cbar_size=\"5%\",\n",
    "                 cbar_pad=\"2%\",\n",
    "                 )\n",
    "\n",
    "for i, (ax, cax, im) in enumerate(zip(grid, grid.cbar_axes, images)):\n",
    "    # Iterating over the grid returns the Axes.\n",
    "    if i%3 == 0:\n",
    "        _cmap=\"gray\"\n",
    "    else:\n",
    "        _cmap=\"Reds\"\n",
    "        \n",
    "    im = ax.imshow(im, cmap=_cmap)\n",
    "    fig.colorbar(im, cax=cax)\n",
    "    ax.grid(False)\n",
    "\n",
    "plt.show()"
   ]
  },
  {
   "cell_type": "code",
   "execution_count": 84,
   "metadata": {},
   "outputs": [
    {
     "data": {
      "image/png": "[encoded data removed]",
      "text/plain": [
       "<Figure size 864x864 with 18 Axes>"
      ]
     },
     "metadata": {},
     "output_type": "display_data"
    }
   ],
   "source": [
    "N=3\n",
    "images = list(zip(fashion_samples[:N],\n",
    "                  fashion_scores[\"images_kd\"][:N],\n",
    "                  fashion_scores[\"images_kd_ps\"][:N]\n",
    "                 ))\n",
    "py_flat = lambda l: [x for sublist in l for x in sublist]\n",
    "images = py_flat(images)\n",
    "\n",
    "from mpl_toolkits.axes_grid1 import make_axes_locatable\n",
    "\n",
    "fig = plt.figure(figsize=(12, 12.))\n",
    "grid = ImageGrid(fig, 111,  # similar to subplot(111)\n",
    "                 nrows_ncols=(3, 3),  # creates 2x2 grid of axes\n",
    "                 axes_pad=0.5,  # pad between axes in inch.\n",
    "#                  share_all=True,\n",
    "                 cbar_location=\"right\",\n",
    "                 cbar_mode=\"each\",\n",
    "                 cbar_size=\"5%\",\n",
    "                 cbar_pad=\"2%\",\n",
    "                 )\n",
    "\n",
    "for i, (ax, cax, im) in enumerate(zip(grid, grid.cbar_axes, images)):\n",
    "    # Iterating over the grid returns the Axes.\n",
    "    if i%3 == 0:\n",
    "        _cmap=\"gray\"\n",
    "    else:\n",
    "        _cmap=\"Reds\"\n",
    "        \n",
    "    im = ax.imshow(im, cmap=_cmap)\n",
    "    fig.colorbar(im, cax=cax)\n",
    "    ax.grid(False)\n",
    "\n",
    "plt.show()"
   ]
  }
 ],
 "metadata": {
  "kernelspec": {
   "display_name": "Python 3",
   "language": "python",
   "name": "python3"
  },
  "language_info": {
   "codemirror_mode": {
    "name": "ipython",
    "version": 3
   },
   "file_extension": ".py",
   "mimetype": "text/x-python",
   "name": "python",
   "nbconvert_exporter": "python",
   "pygments_lexer": "ipython3",
   "version": "3.6.9"
  },
  "widgets": {
   "application/vnd.jupyter.widget-state+json": {
    "state": {},
    "version_major": 2,
    "version_minor": 0
   }
  }
 },
 "nbformat": 4,
 "nbformat_minor": 4
}
