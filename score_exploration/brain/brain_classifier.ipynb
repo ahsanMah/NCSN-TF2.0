{
 "cells": [
  {
   "cell_type": "code",
   "execution_count": 2,
   "metadata": {},
   "outputs": [],
   "source": [
    "import os, sys\n",
    "os.environ[\"CUDA_VISIBLE_DEVICES\"] = \"0\"\n",
    "sys.path.append(\"/home/Developer/NCSN-TF2.0/\")\n",
    "DATADIR = \"/home/Developer/NCSN-TF2.0/data/\"\n",
    "\n",
    "import utils\n",
    "import pickle\n",
    "import numpy as np\n",
    "import tensorflow as tf\n",
    "import tensorflow_datasets as tfds\n",
    "import matplotlib.pyplot as plt\n",
    "\n",
    "from ood_detection_helper import *\n",
    "from datasets.dataset_loader import  *\n",
    "from tqdm import tqdm\n",
    "\n",
    "from PIL import Image\n",
    "from IPython.display import display\n",
    "from matplotlib.pyplot import imshow\n",
    "from tensorflow.compat.v1 import ConfigProto\n",
    "from tensorflow.compat.v1 import InteractiveSession\n",
    "\n",
    "tf.__version__\n",
    "\n",
    "config = ConfigProto()\n",
    "config.gpu_options.allow_growth = True\n",
    "session = InteractiveSession(config=config)\n",
    "\n",
    "print(\"Num GPUs Available: \", len(tf.config.experimental.list_physical_devices('GPU')))\n",
    "tf.config.experimental.list_physical_devices('GPU')"
   ]
  },
  {
   "cell_type": "code",
   "execution_count": 136,
   "metadata": {},
   "outputs": [],
   "source": [
    "# %%writefile data_loader.py\n",
    "\n",
    "import pickle\n",
    "import numpy as np\n",
    "from sklearn.preprocessing import OneHotEncoder\n",
    "from sklearn.model_selection import train_test_split\n",
    "from sklearn.utils.class_weight import compute_class_weight\n",
    "\n",
    "\n",
    "def load(onehot=True, ood=True):\n",
    "\n",
    "    fname=\"brain_train_data.p\"\n",
    "    with open(fname, mode='rb') as f:\n",
    "        data = pickle.load(f)\n",
    "\n",
    "\n",
    "    TRAIN_TEST_RATIO=0.9\n",
    "    SEED = 42\n",
    "\n",
    "    X = data[\"images\"]\n",
    "    y = data[\"labels\"] #.reshape(-1,1)\n",
    "    \n",
    "#     X_train, X_test, y_train, y_test = train_test_split(X,y,\n",
    "#                                                        train_size=TRAIN_TEST_RATIO,\n",
    "#                                                        stratify=y,\n",
    "#                                                        random_state=SEED\n",
    "#                                                        )\n",
    "    X_train, y_train = [], []\n",
    "    X_test, y_test = [], []\n",
    "    train_classes = [0.0,1.0]#np.unique(y)\n",
    "    ood_classes = [2.0, 4.0, 6.0]\n",
    "    \n",
    "    for i in train_classes:\n",
    "        if i == 0.0:\n",
    "            num=1000\n",
    "        else:\n",
    "            num=100\n",
    "        X_train.append(X[y==i][:-num])\n",
    "        y_train.append(y[y==i][:-num])\n",
    "        \n",
    "        X_test.append(X[y==i][-num:])\n",
    "        y_test.append(y[y==i][-num:])\n",
    "    \n",
    "    for i in ood_classes:\n",
    "        X_test.append(X[y==i])\n",
    "        y_test.append(y[y==i])\n",
    "    \n",
    "    X_train = np.concatenate(X_train, axis=0)\n",
    "    y_train = np.concatenate(y_train, axis=0)\n",
    "    X_test = np.concatenate(X_test, axis=0)\n",
    "    y_test = np.concatenate(y_test, axis=0)\n",
    "    \n",
    "    if ood:\n",
    "        y_train[y_train > 0] = 1\n",
    "        y_test[y_test > 0] = 1\n",
    "    \n",
    "    \n",
    "    class_weight = compute_class_weight(\"balanced\", \n",
    "                                    classes=np.unique(y_train.flatten()),\n",
    "                                    y=y_train.flatten())\n",
    "    class_weight = {i:w for i,w in enumerate(class_weight)}\n",
    "    print(class_weight)\n",
    "    \n",
    "    if onehot:\n",
    "        y_train = y_train.reshape(-1,1)\n",
    "        y_test = y_test.reshape(-1,1)\n",
    "        enc = OneHotEncoder(sparse=False).fit(y_train)\n",
    "        y_train = enc.transform(y_train)\n",
    "        y_test = enc.transform(y_test)\n",
    "    \n",
    "    \n",
    "    \n",
    "    return X_train, X_test, y_train, y_test, class_weight"
   ]
  },
  {
   "cell_type": "code",
   "execution_count": 108,
   "metadata": {},
   "outputs": [
    {
     "data": {
      "text/plain": [
       "656"
      ]
     },
     "execution_count": 108,
     "metadata": {},
     "output_type": "execute_result"
    }
   ],
   "source": [
    "sum(y_train==1)"
   ]
  },
  {
   "cell_type": "code",
   "execution_count": 137,
   "metadata": {},
   "outputs": [],
   "source": [
    "# %%writefile model.py\n",
    "\n",
    "import tensorflow as tf\n",
    "import tensorflow.keras as tfk\n",
    "from tensorflow.keras.models import Model\n",
    "from tensorflow.keras.layers import Input, Dense, GlobalAveragePooling2D\n",
    "\n",
    "def build_model(X,y):\n",
    "    input_tensor = Input(shape=X.shape[1:])\n",
    "\n",
    "    # create the base pre-trained model\n",
    "    base_model = tf.keras.applications.ResNet50(\n",
    "                include_top=False,\n",
    "                weights=None,\n",
    "                input_tensor=input_tensor,\n",
    "                input_shape=None,\n",
    "                pooling=None\n",
    "            )\n",
    "\n",
    "    # add a global spatial average pooling layer\n",
    "    x = base_model.output\n",
    "    x = GlobalAveragePooling2D()(x)\n",
    "\n",
    "    # let's add a fully-connected layer\n",
    "    x = Dense(1024, activation='elu')(x)\n",
    "\n",
    "    # and a logistic layer\n",
    "    predictions = Dense(y.shape[-1], activation='linear')(x)\n",
    "\n",
    "    # this is the model we will train\n",
    "    model = Model(inputs=base_model.input, outputs=predictions)\n",
    "\n",
    "\n",
    "    # model.summary()\n",
    "\n",
    "    optimizer = tfk.optimizers.Adam()\n",
    "    loss = tfk.losses.CategoricalCrossentropy(from_logits=True)\n",
    "    metrics = [tfk.metrics.CategoricalAccuracy('accuracy', dtype=tf.float32)]\n",
    "    model.compile(optimizer=optimizer, \n",
    "                loss=loss, \n",
    "                metrics=metrics)\n",
    "    \n",
    "    return model"
   ]
  },
  {
   "cell_type": "code",
   "execution_count": 214,
   "metadata": {},
   "outputs": [
    {
     "name": "stdout",
     "output_type": "stream",
     "text": [
      "{0: 0.5308357619629595, 1: 8.607469512195122}\n"
     ]
    }
   ],
   "source": [
    "X_train, X_test, y_train_1h, y_test_1h, class_weight = load()"
   ]
  },
  {
   "cell_type": "code",
   "execution_count": 215,
   "metadata": {},
   "outputs": [
    {
     "data": {
      "text/plain": [
       "((11293, 91, 109, 1), (2771, 91, 109, 1), (11293, 2))"
      ]
     },
     "execution_count": 215,
     "metadata": {},
     "output_type": "execute_result"
    }
   ],
   "source": [
    "X_train.shape, X_test.shape, y_train_1h.shape"
   ]
  },
  {
   "cell_type": "code",
   "execution_count": 216,
   "metadata": {},
   "outputs": [
    {
     "name": "stdout",
     "output_type": "stream",
     "text": [
      "2.3.1\n",
      "{0: 0.5308357619629595, 1: 8.607469512195122}\n",
      "{0: 0.5308357619629595, 1: 8.607469512195122}\n"
     ]
    }
   ],
   "source": [
    "# %%writefile run.py\n",
    "\n",
    "import os, sys\n",
    "# os.environ[\"CUDA_VISIBLE_DEVICES\"] = \"0\"\n",
    "sys.path.append(\"/home/Developer/NCSN-TF2.0/\")\n",
    "DATADIR = \"/home/Developer/NCSN-TF2.0/data/\"\n",
    "\n",
    "import time\n",
    "import pickle\n",
    "import numpy as np\n",
    "import tensorflow as tf\n",
    "import matplotlib.pyplot as plt\n",
    "from tqdm import tqdm\n",
    "\n",
    "from PIL import Image\n",
    "from IPython.display import display\n",
    "from matplotlib.pyplot import imshow\n",
    "from tensorflow.compat.v1 import ConfigProto\n",
    "from tensorflow.compat.v1 import InteractiveSession\n",
    "\n",
    "# import model, data_loader\n",
    "from sklearn.utils.class_weight import compute_class_weight\n",
    "\n",
    "print(tf.__version__)\n",
    "\n",
    "# config = ConfigProto()\n",
    "# config.gpu_options.allow_growth = True\n",
    "# session = InteractiveSession(config=config)\n",
    "\n",
    "# print(\"Num GPUs Available: \", len(tf.config.experimental.list_physical_devices('GPU')))\n",
    "# tf.config.experimental.list_physical_devices('GPU')\n",
    "\n",
    "OOD = True\n",
    "\n",
    "X_train, X_test, y_train_1h, y_test_1h, class_weight = load()\n",
    "X_train, X_test, y_train, y_test, _ = load(ood=False, onehot=False)\n",
    "\n",
    "model = build_model(X_train, y_train_1h)\n",
    "\n",
    "# if OOD:\n",
    "#     y_train[y_train > 0] = 1\n",
    "#     y_test[y_test > 0] = 1\n",
    "\n",
    "\n",
    "# enc = OneHotEncoder(sparse=False).fit(y_train)\n",
    "# y_train = enc.transform(y_train)\n",
    "# y_test = enc.transform(y_test)\n",
    "\n",
    "# class_weight = compute_class_weight(\"balanced\", \n",
    "#                                     classes=np.unique(data[\"labels\"]),\n",
    "#                                     y=data[\"labels\"])\n",
    "# class_weight = {i:w for i,w in enumerate(class_weight)}\n",
    "# print(class_weight)\n",
    "\n",
    "t = int(time.time())\n",
    "log_dir = 'logs/{}'.format(t)\n",
    "if not os.path.exists(log_dir):\n",
    "    os.makedirs(log_dir)\n",
    "tensorboard_callback = tf.keras.callbacks.TensorBoard(log_dir=log_dir)\n",
    "\n",
    "rows = []\n",
    "ages = ['1year', '2year', '4year', '6year']\n",
    "metric_types = ['fpr_tpr95','de', 'roc_auc', 'pr_auc_in','pr_auc_out','fpr_tpr80','ap']\n",
    "\n",
    "\n",
    "for i in range(10):\n",
    "    checkpoint_dir= os.path.join(\"./checkpoints\", 'run_ood{}_{}'.format(int(OOD), i))\n",
    "    if not os.path.exists(checkpoint_path):\n",
    "        os.makedirs(checkpoint_path)\n",
    "    checkpoint_path = checkpoint_dir+\"/{epoch:02d}.hdf5\"\n",
    "\n",
    "    cp_callback = tf.keras.callbacks.ModelCheckpoint(filepath=checkpoint_path,\n",
    "                                                    save_weights_only=True,\n",
    "#                                                     monitor='val_accuracy',\n",
    "                                                    save_best_only=False)\n",
    "\n",
    "    model.fit(X_train, y_train_1h,\n",
    "              epochs=10,\n",
    "#               validation_data=(X_test[950:1050], y_test[950:1050]),\n",
    "              callbacks=[cp_callback],\n",
    "              class_weight=class_weight,\n",
    "              shuffle=True,\n",
    "              verbose=0\n",
    "             )\n",
    "    \n",
    "    metrics = {}\n",
    "    scores = -1*np.max(model.predict(X_test), axis=1)\n",
    "    inlier_scores = scores[y_test==0]\n",
    "    for i in np.unique(y_test):\n",
    "        if i==0: continue\n",
    "        y_scores = scores[y_test==i]\n",
    "        name=\"{:d}year\".format(int(i))\n",
    "        metrics[name]= ood_metrics(inlier_scores, y_scores,\n",
    "                                   names=(\"Inlier\", name))\n",
    "    for age in ages:\n",
    "        rows.append([age] + [metrics[age][m] for m in metric_types])\n",
    "\n",
    "df = pd.DataFrame(rows, columns=[\"age\"]+metric_types)"
   ]
  },
  {
   "cell_type": "code",
   "execution_count": 213,
   "metadata": {},
   "outputs": [
    {
     "data": {
      "text/plain": [
       "(11293, 91, 109, 1)"
      ]
     },
     "execution_count": 213,
     "metadata": {},
     "output_type": "execute_result"
    }
   ],
   "source": [
    "X_train.shape"
   ]
  },
  {
   "cell_type": "code",
   "execution_count": 143,
   "metadata": {},
   "outputs": [
    {
     "name": "stdout",
     "output_type": "stream",
     "text": [
      "01.hdf5  03.hdf5  05.hdf5  07.hdf5  09.hdf5  {epoch:02d}.hdf5\n",
      "02.hdf5  04.hdf5  06.hdf5  08.hdf5  10.hdf5\n"
     ]
    }
   ],
   "source": [
    "!ls ./checkpoints/run_ood1_12/"
   ]
  },
  {
   "cell_type": "code",
   "execution_count": 111,
   "metadata": {},
   "outputs": [],
   "source": [
    "from helper import plot_confusion_matrix\n"
   ]
  },
  {
   "cell_type": "code",
   "execution_count": 112,
   "metadata": {},
   "outputs": [
    {
     "name": "stdout",
     "output_type": "stream",
     "text": [
      "Normalized confusion matrix\n",
      "[[1.        0.       ]\n",
      " [0.1295578 0.8704422]]\n",
      "Overall Accuracy: 0.9352\n"
     ]
    },
    {
     "data": {
      "text/plain": [
       "(<matplotlib.axes._subplots.AxesSubplot at 0x7f08b47c4358>,\n",
       " array([[1.       , 0.       ],\n",
       "        [0.1295578, 0.8704422]]))"
      ]
     },
     "execution_count": 112,
     "metadata": {},
     "output_type": "execute_result"
    },
    {
     "data": {
      "image/png": "[encoded data removed]",
      "text/plain": [
       "<Figure size 576x576 with 2 Axes>"
      ]
     },
     "metadata": {
      "needs_background": "light"
     },
     "output_type": "display_data"
    }
   ],
   "source": [
    "y_preds = np.argmax(model.predict(X_test), axis=1)\n",
    "y_true = np.argmax(y_test, axis=1)\n",
    "\n",
    "plot_confusion_matrix(y_true, y_preds, classes=[\"Inlier\",\"Outliers\"], normalize=True)"
   ]
  },
  {
   "cell_type": "code",
   "execution_count": null,
   "metadata": {},
   "outputs": [],
   "source": [
    "scores = -1*np.max(model.predict(X_test), axis=1)"
   ]
  },
  {
   "cell_type": "code",
   "execution_count": 186,
   "metadata": {},
   "outputs": [
    {
     "name": "stdout",
     "output_type": "stream",
     "text": [
      "{0: 0.5308357619629595, 1: 8.607469512195122}\n"
     ]
    },
    {
     "data": {
      "text/plain": [
       "0.0    1000\n",
       "2.0     582\n",
       "6.0     570\n",
       "4.0     519\n",
       "1.0     100\n",
       "dtype: int64"
      ]
     },
     "execution_count": 186,
     "metadata": {},
     "output_type": "execute_result"
    }
   ],
   "source": [
    "from scipy.special import softmax\n",
    "X_train, X_test, y_train, y_test, _ = load(ood=False, onehot=False)\n",
    "\n",
    "scores = -1*np.max(model.predict(X_test), axis=1)\n",
    "pd.Series(y_test).value_counts()"
   ]
  },
  {
   "cell_type": "code",
   "execution_count": 182,
   "metadata": {},
   "outputs": [
    {
     "data": {
      "text/plain": [
       "{'fpr_tpr95': 0.0,\n",
       " 'de': 0.0,\n",
       " 'roc_auc': 1.0,\n",
       " 'pr_auc_in': 1.0,\n",
       " 'pr_auc_out': 1.0,\n",
       " 'fpr_tpr80': 0.0,\n",
       " 'ap': 1.0}"
      ]
     },
     "execution_count": 182,
     "metadata": {},
     "output_type": "execute_result"
    }
   ],
   "source": [
    "y_scores = model.predict(X_test[y_test==1])[:,-1:]\n",
    "inlier_scores = model.predict(X_test[y_test==0])[:,-1:]\n",
    "\n",
    "\n",
    "name=\"{:d}year\".format(int(i))\n",
    "ood_metrics(inlier_scores, y_scores,\n",
    "                            names=(\"Inlier\", name))"
   ]
  },
  {
   "cell_type": "code",
   "execution_count": 175,
   "metadata": {},
   "outputs": [
    {
     "data": {
      "text/plain": [
       "(array([[-8.754172],\n",
       "        [-8.253665],\n",
       "        [-7.817325],\n",
       "        [-8.292737]], dtype=float32), array([[13.335422],\n",
       "        [ 9.820888],\n",
       "        [ 9.529435],\n",
       "        [ 8.80876 ]], dtype=float32))"
      ]
     },
     "execution_count": 175,
     "metadata": {},
     "output_type": "execute_result"
    }
   ],
   "source": [
    "y_scores[:4], inlier_scores[:4]"
   ]
  },
  {
   "cell_type": "code",
   "execution_count": 217,
   "metadata": {},
   "outputs": [],
   "source": [
    "# from ood_detection_helper import ood_metrics\n",
    "# import pandas as pd\n",
    "\n",
    "# metrics = {}\n",
    "# # scores = model.predict(X_test)[:,-1:]\n",
    "# scores = -1*np.max(model.predict(X_test), axis=1)\n",
    "# inlier_scores = scores[y_test==0]\n",
    "# for i in np.unique(y_test):\n",
    "#     if i==0: continue\n",
    "#     y_scores = scores[y_test==i]\n",
    "#     name=\"{:d}year\".format(int(i))\n",
    "#     metrics[name]= ood_metrics(inlier_scores, y_scores,\n",
    "#                                names=(\"Inlier\", name))\n",
    "# rows = []\n",
    "# ages = ['1year', '2year', '4year', '6year']\n",
    "# metric_types = ['fpr_tpr95','de', 'roc_auc', 'pr_auc_in','pr_auc_out','fpr_tpr80','ap']\n",
    "\n",
    "# for age in ages:\n",
    "#     rows.append([age] + [metrics[age][m] for m in metric_types])\n",
    "\n",
    "# df = pd.DataFrame(rows, columns=[\"age\"]+metric_types)"
   ]
  },
  {
   "cell_type": "code",
   "execution_count": 222,
   "metadata": {},
   "outputs": [
    {
     "data": {
      "text/html": [
       "<div>\n",
       "<style scoped>\n",
       "    .dataframe tbody tr th:only-of-type {\n",
       "        vertical-align: middle;\n",
       "    }\n",
       "\n",
       "    .dataframe tbody tr th {\n",
       "        vertical-align: top;\n",
       "    }\n",
       "\n",
       "    .dataframe thead th {\n",
       "        text-align: right;\n",
       "    }\n",
       "</style>\n",
       "<table border=\"1\" class=\"dataframe\">\n",
       "  <thead>\n",
       "    <tr style=\"text-align: right;\">\n",
       "      <th></th>\n",
       "      <th>fpr_tpr95</th>\n",
       "      <th>de</th>\n",
       "      <th>roc_auc</th>\n",
       "      <th>pr_auc_in</th>\n",
       "      <th>pr_auc_out</th>\n",
       "      <th>fpr_tpr80</th>\n",
       "      <th>ap</th>\n",
       "    </tr>\n",
       "  </thead>\n",
       "  <tbody>\n",
       "    <tr>\n",
       "      <th>count</th>\n",
       "      <td>1000.000000</td>\n",
       "      <td>1000.000000</td>\n",
       "      <td>1000.000000</td>\n",
       "      <td>1000.000000</td>\n",
       "      <td>1000.000000</td>\n",
       "      <td>1000.000000</td>\n",
       "      <td>1000.000000</td>\n",
       "    </tr>\n",
       "    <tr>\n",
       "      <th>mean</th>\n",
       "      <td>41.910000</td>\n",
       "      <td>20.111478</td>\n",
       "      <td>64.785670</td>\n",
       "      <td>70.282876</td>\n",
       "      <td>77.576297</td>\n",
       "      <td>41.220000</td>\n",
       "      <td>70.302687</td>\n",
       "    </tr>\n",
       "    <tr>\n",
       "      <th>std</th>\n",
       "      <td>50.182123</td>\n",
       "      <td>22.071106</td>\n",
       "      <td>43.814649</td>\n",
       "      <td>34.360082</td>\n",
       "      <td>28.084460</td>\n",
       "      <td>50.705485</td>\n",
       "      <td>34.344927</td>\n",
       "    </tr>\n",
       "    <tr>\n",
       "      <th>min</th>\n",
       "      <td>0.000000</td>\n",
       "      <td>0.335911</td>\n",
       "      <td>4.363918</td>\n",
       "      <td>21.357356</td>\n",
       "      <td>42.611649</td>\n",
       "      <td>0.000000</td>\n",
       "      <td>21.394636</td>\n",
       "    </tr>\n",
       "    <tr>\n",
       "      <th>25%</th>\n",
       "      <td>0.750000</td>\n",
       "      <td>2.272981</td>\n",
       "      <td>17.443385</td>\n",
       "      <td>34.421831</td>\n",
       "      <td>45.808094</td>\n",
       "      <td>0.075000</td>\n",
       "      <td>34.456524</td>\n",
       "    </tr>\n",
       "    <tr>\n",
       "      <th>50%</th>\n",
       "      <td>8.600000</td>\n",
       "      <td>6.114347</td>\n",
       "      <td>96.149656</td>\n",
       "      <td>90.442760</td>\n",
       "      <td>98.224652</td>\n",
       "      <td>5.950000</td>\n",
       "      <td>90.468047</td>\n",
       "    </tr>\n",
       "    <tr>\n",
       "      <th>75%</th>\n",
       "      <td>100.000000</td>\n",
       "      <td>44.040679</td>\n",
       "      <td>99.579983</td>\n",
       "      <td>99.216290</td>\n",
       "      <td>99.748966</td>\n",
       "      <td>100.000000</td>\n",
       "      <td>99.218004</td>\n",
       "    </tr>\n",
       "    <tr>\n",
       "      <th>max</th>\n",
       "      <td>100.000000</td>\n",
       "      <td>50.000000</td>\n",
       "      <td>99.992440</td>\n",
       "      <td>99.986920</td>\n",
       "      <td>99.995658</td>\n",
       "      <td>100.000000</td>\n",
       "      <td>99.986931</td>\n",
       "    </tr>\n",
       "  </tbody>\n",
       "</table>\n",
       "</div>"
      ],
      "text/plain": [
       "         fpr_tpr95           de      roc_auc    pr_auc_in   pr_auc_out  \\\n",
       "count  1000.000000  1000.000000  1000.000000  1000.000000  1000.000000   \n",
       "mean     41.910000    20.111478    64.785670    70.282876    77.576297   \n",
       "std      50.182123    22.071106    43.814649    34.360082    28.084460   \n",
       "min       0.000000     0.335911     4.363918    21.357356    42.611649   \n",
       "25%       0.750000     2.272981    17.443385    34.421831    45.808094   \n",
       "50%       8.600000     6.114347    96.149656    90.442760    98.224652   \n",
       "75%     100.000000    44.040679    99.579983    99.216290    99.748966   \n",
       "max     100.000000    50.000000    99.992440    99.986920    99.995658   \n",
       "\n",
       "         fpr_tpr80           ap  \n",
       "count  1000.000000  1000.000000  \n",
       "mean     41.220000    70.302687  \n",
       "std      50.705485    34.344927  \n",
       "min       0.000000    21.394636  \n",
       "25%       0.075000    34.456524  \n",
       "50%       5.950000    90.468047  \n",
       "75%     100.000000    99.218004  \n",
       "max     100.000000    99.986931  "
      ]
     },
     "execution_count": 222,
     "metadata": {},
     "output_type": "execute_result"
    }
   ],
   "source": [
    "df.loc[df.age==\"2year\"].describe() * 100"
   ]
  },
  {
   "cell_type": "code",
   "execution_count": 223,
   "metadata": {},
   "outputs": [
    {
     "data": {
      "text/html": [
       "<div>\n",
       "<style scoped>\n",
       "    .dataframe tbody tr th:only-of-type {\n",
       "        vertical-align: middle;\n",
       "    }\n",
       "\n",
       "    .dataframe tbody tr th {\n",
       "        vertical-align: top;\n",
       "    }\n",
       "\n",
       "    .dataframe thead th {\n",
       "        text-align: right;\n",
       "    }\n",
       "</style>\n",
       "<table border=\"1\" class=\"dataframe\">\n",
       "  <thead>\n",
       "    <tr style=\"text-align: right;\">\n",
       "      <th></th>\n",
       "      <th>fpr_tpr95</th>\n",
       "      <th>de</th>\n",
       "      <th>roc_auc</th>\n",
       "      <th>pr_auc_in</th>\n",
       "      <th>pr_auc_out</th>\n",
       "      <th>fpr_tpr80</th>\n",
       "      <th>ap</th>\n",
       "    </tr>\n",
       "  </thead>\n",
       "  <tbody>\n",
       "    <tr>\n",
       "      <th>count</th>\n",
       "      <td>1000.000000</td>\n",
       "      <td>1000.000000</td>\n",
       "      <td>1000.000000</td>\n",
       "      <td>1000.000000</td>\n",
       "      <td>1000.000000</td>\n",
       "      <td>1000.000000</td>\n",
       "      <td>1000.000000</td>\n",
       "    </tr>\n",
       "    <tr>\n",
       "      <th>mean</th>\n",
       "      <td>44.960000</td>\n",
       "      <td>15.797707</td>\n",
       "      <td>79.954432</td>\n",
       "      <td>81.148586</td>\n",
       "      <td>84.799037</td>\n",
       "      <td>33.800000</td>\n",
       "      <td>81.161757</td>\n",
       "    </tr>\n",
       "    <tr>\n",
       "      <th>std</th>\n",
       "      <td>47.595779</td>\n",
       "      <td>15.834396</td>\n",
       "      <td>29.514087</td>\n",
       "      <td>25.426793</td>\n",
       "      <td>20.055738</td>\n",
       "      <td>43.095011</td>\n",
       "      <td>25.413387</td>\n",
       "    </tr>\n",
       "    <tr>\n",
       "      <th>min</th>\n",
       "      <td>0.200000</td>\n",
       "      <td>0.689017</td>\n",
       "      <td>10.005973</td>\n",
       "      <td>20.192687</td>\n",
       "      <td>46.200916</td>\n",
       "      <td>0.100000</td>\n",
       "      <td>20.237220</td>\n",
       "    </tr>\n",
       "    <tr>\n",
       "      <th>25%</th>\n",
       "      <td>8.350000</td>\n",
       "      <td>6.231382</td>\n",
       "      <td>72.662861</td>\n",
       "      <td>76.449748</td>\n",
       "      <td>72.242314</td>\n",
       "      <td>1.300000</td>\n",
       "      <td>76.462720</td>\n",
       "    </tr>\n",
       "    <tr>\n",
       "      <th>50%</th>\n",
       "      <td>14.850000</td>\n",
       "      <td>8.427890</td>\n",
       "      <td>97.189884</td>\n",
       "      <td>94.156158</td>\n",
       "      <td>98.628162</td>\n",
       "      <td>3.550000</td>\n",
       "      <td>94.166229</td>\n",
       "    </tr>\n",
       "    <tr>\n",
       "      <th>75%</th>\n",
       "      <td>100.000000</td>\n",
       "      <td>20.661416</td>\n",
       "      <td>98.099181</td>\n",
       "      <td>96.135791</td>\n",
       "      <td>99.041246</td>\n",
       "      <td>67.175000</td>\n",
       "      <td>96.142333</td>\n",
       "    </tr>\n",
       "    <tr>\n",
       "      <th>max</th>\n",
       "      <td>100.000000</td>\n",
       "      <td>50.000000</td>\n",
       "      <td>99.927553</td>\n",
       "      <td>99.854727</td>\n",
       "      <td>99.964182</td>\n",
       "      <td>100.000000</td>\n",
       "      <td>99.854875</td>\n",
       "    </tr>\n",
       "  </tbody>\n",
       "</table>\n",
       "</div>"
      ],
      "text/plain": [
       "         fpr_tpr95           de      roc_auc    pr_auc_in   pr_auc_out  \\\n",
       "count  1000.000000  1000.000000  1000.000000  1000.000000  1000.000000   \n",
       "mean     44.960000    15.797707    79.954432    81.148586    84.799037   \n",
       "std      47.595779    15.834396    29.514087    25.426793    20.055738   \n",
       "min       0.200000     0.689017    10.005973    20.192687    46.200916   \n",
       "25%       8.350000     6.231382    72.662861    76.449748    72.242314   \n",
       "50%      14.850000     8.427890    97.189884    94.156158    98.628162   \n",
       "75%     100.000000    20.661416    98.099181    96.135791    99.041246   \n",
       "max     100.000000    50.000000    99.927553    99.854727    99.964182   \n",
       "\n",
       "         fpr_tpr80           ap  \n",
       "count  1000.000000  1000.000000  \n",
       "mean     33.800000    81.161757  \n",
       "std      43.095011    25.413387  \n",
       "min       0.100000    20.237220  \n",
       "25%       1.300000    76.462720  \n",
       "50%       3.550000    94.166229  \n",
       "75%      67.175000    96.142333  \n",
       "max     100.000000    99.854875  "
      ]
     },
     "execution_count": 223,
     "metadata": {},
     "output_type": "execute_result"
    }
   ],
   "source": [
    "df.loc[df.age==\"4year\"].describe() * 100"
   ]
  },
  {
   "cell_type": "code",
   "execution_count": 224,
   "metadata": {},
   "outputs": [
    {
     "data": {
      "text/html": [
       "<div>\n",
       "<style scoped>\n",
       "    .dataframe tbody tr th:only-of-type {\n",
       "        vertical-align: middle;\n",
       "    }\n",
       "\n",
       "    .dataframe tbody tr th {\n",
       "        vertical-align: top;\n",
       "    }\n",
       "\n",
       "    .dataframe thead th {\n",
       "        text-align: right;\n",
       "    }\n",
       "</style>\n",
       "<table border=\"1\" class=\"dataframe\">\n",
       "  <thead>\n",
       "    <tr style=\"text-align: right;\">\n",
       "      <th></th>\n",
       "      <th>fpr_tpr95</th>\n",
       "      <th>de</th>\n",
       "      <th>roc_auc</th>\n",
       "      <th>pr_auc_in</th>\n",
       "      <th>pr_auc_out</th>\n",
       "      <th>fpr_tpr80</th>\n",
       "      <th>ap</th>\n",
       "    </tr>\n",
       "  </thead>\n",
       "  <tbody>\n",
       "    <tr>\n",
       "      <th>count</th>\n",
       "      <td>1000.000000</td>\n",
       "      <td>1000.000000</td>\n",
       "      <td>1000.000000</td>\n",
       "      <td>1000.000000</td>\n",
       "      <td>1000.000000</td>\n",
       "      <td>1000.000000</td>\n",
       "      <td>1000.000000</td>\n",
       "    </tr>\n",
       "    <tr>\n",
       "      <th>mean</th>\n",
       "      <td>44.900000</td>\n",
       "      <td>18.654649</td>\n",
       "      <td>81.454439</td>\n",
       "      <td>80.671654</td>\n",
       "      <td>86.604019</td>\n",
       "      <td>29.680000</td>\n",
       "      <td>80.686248</td>\n",
       "    </tr>\n",
       "    <tr>\n",
       "      <th>std</th>\n",
       "      <td>36.086686</td>\n",
       "      <td>13.769146</td>\n",
       "      <td>27.050939</td>\n",
       "      <td>22.642270</td>\n",
       "      <td>17.817914</td>\n",
       "      <td>33.191257</td>\n",
       "      <td>22.631666</td>\n",
       "    </tr>\n",
       "    <tr>\n",
       "      <th>min</th>\n",
       "      <td>4.000000</td>\n",
       "      <td>4.292982</td>\n",
       "      <td>9.501579</td>\n",
       "      <td>21.622857</td>\n",
       "      <td>43.829201</td>\n",
       "      <td>0.400000</td>\n",
       "      <td>21.663873</td>\n",
       "    </tr>\n",
       "    <tr>\n",
       "      <th>25%</th>\n",
       "      <td>16.425000</td>\n",
       "      <td>8.824781</td>\n",
       "      <td>80.371228</td>\n",
       "      <td>79.908736</td>\n",
       "      <td>83.058529</td>\n",
       "      <td>5.550000</td>\n",
       "      <td>79.921064</td>\n",
       "    </tr>\n",
       "    <tr>\n",
       "      <th>50%</th>\n",
       "      <td>31.500000</td>\n",
       "      <td>15.026754</td>\n",
       "      <td>93.161842</td>\n",
       "      <td>89.182180</td>\n",
       "      <td>95.968509</td>\n",
       "      <td>11.500000</td>\n",
       "      <td>89.194168</td>\n",
       "    </tr>\n",
       "    <tr>\n",
       "      <th>75%</th>\n",
       "      <td>68.700000</td>\n",
       "      <td>21.899123</td>\n",
       "      <td>96.464035</td>\n",
       "      <td>92.937065</td>\n",
       "      <td>98.167649</td>\n",
       "      <td>50.700000</td>\n",
       "      <td>92.949102</td>\n",
       "    </tr>\n",
       "    <tr>\n",
       "      <th>max</th>\n",
       "      <td>100.000000</td>\n",
       "      <td>50.000000</td>\n",
       "      <td>99.008947</td>\n",
       "      <td>98.563557</td>\n",
       "      <td>99.372708</td>\n",
       "      <td>99.800000</td>\n",
       "      <td>98.564722</td>\n",
       "    </tr>\n",
       "  </tbody>\n",
       "</table>\n",
       "</div>"
      ],
      "text/plain": [
       "         fpr_tpr95           de      roc_auc    pr_auc_in   pr_auc_out  \\\n",
       "count  1000.000000  1000.000000  1000.000000  1000.000000  1000.000000   \n",
       "mean     44.900000    18.654649    81.454439    80.671654    86.604019   \n",
       "std      36.086686    13.769146    27.050939    22.642270    17.817914   \n",
       "min       4.000000     4.292982     9.501579    21.622857    43.829201   \n",
       "25%      16.425000     8.824781    80.371228    79.908736    83.058529   \n",
       "50%      31.500000    15.026754    93.161842    89.182180    95.968509   \n",
       "75%      68.700000    21.899123    96.464035    92.937065    98.167649   \n",
       "max     100.000000    50.000000    99.008947    98.563557    99.372708   \n",
       "\n",
       "         fpr_tpr80           ap  \n",
       "count  1000.000000  1000.000000  \n",
       "mean     29.680000    80.686248  \n",
       "std      33.191257    22.631666  \n",
       "min       0.400000    21.663873  \n",
       "25%       5.550000    79.921064  \n",
       "50%      11.500000    89.194168  \n",
       "75%      50.700000    92.949102  \n",
       "max      99.800000    98.564722  "
      ]
     },
     "execution_count": 224,
     "metadata": {},
     "output_type": "execute_result"
    }
   ],
   "source": [
    "df.loc[df.age==\"6year\"].describe() * 100"
   ]
  },
  {
   "cell_type": "code",
   "execution_count": 178,
   "metadata": {},
   "outputs": [
    {
     "name": "stdout",
     "output_type": "stream",
     "text": [
      "\\begin{tabular}{lrrrrrrr}\n",
      "\\toprule\n",
      "{} &  fpr\\_tpr95 &         de &    roc\\_auc &  pr\\_auc\\_in &  pr\\_auc\\_out &  fpr\\_tpr80 &         ap \\\\\n",
      "\\midrule\n",
      "1year &       17.3 &  10.250000 &  89.899000 &  31.035283 &   98.992959 &       14.5 &  31.480106 \\\\\n",
      "2year &       10.2 &   7.469588 &  97.034708 &  93.519029 &   98.538575 &        4.7 &  93.528565 \\\\\n",
      "4year &        2.1 &   2.692678 &  99.563006 &  99.036234 &   99.794819 &        0.5 &  99.037382 \\\\\n",
      "6year &        2.0 &   2.452632 &  99.446491 &  98.774703 &   99.727221 &        0.8 &  98.776320 \\\\\n",
      "\\bottomrule\n",
      "\\end{tabular}\n",
      "\n"
     ]
    }
   ],
   "source": [
    "print(metrics.T.to_latex())"
   ]
  },
  {
   "cell_type": "code",
   "execution_count": null,
   "metadata": {},
   "outputs": [],
   "source": []
  },
  {
   "cell_type": "code",
   "execution_count": null,
   "metadata": {},
   "outputs": [],
   "source": []
  },
  {
   "cell_type": "code",
   "execution_count": 178,
   "metadata": {},
   "outputs": [
    {
     "name": "stdout",
     "output_type": "stream",
     "text": [
      "\\begin{tabular}{lrrrrrrr}\n",
      "\\toprule\n",
      "{} &  fpr\\_tpr95 &         de &    roc\\_auc &  pr\\_auc\\_in &  pr\\_auc\\_out &  fpr\\_tpr80 &         ap \\\\\n",
      "\\midrule\n",
      "1year &       17.3 &  10.250000 &  89.899000 &  31.035283 &   98.992959 &       14.5 &  31.480106 \\\\\n",
      "2year &       10.2 &   7.469588 &  97.034708 &  93.519029 &   98.538575 &        4.7 &  93.528565 \\\\\n",
      "4year &        2.1 &   2.692678 &  99.563006 &  99.036234 &   99.794819 &        0.5 &  99.037382 \\\\\n",
      "6year &        2.0 &   2.452632 &  99.446491 &  98.774703 &   99.727221 &        0.8 &  98.776320 \\\\\n",
      "\\bottomrule\n",
      "\\end{tabular}\n",
      "\n"
     ]
    }
   ],
   "source": [
    "print(metrics.T.to_latex())"
   ]
  },
  {
   "cell_type": "code",
   "execution_count": 144,
   "metadata": {},
   "outputs": [
    {
     "name": "stdout",
     "output_type": "stream",
     "text": [
      "\\begin{tabular}{lrrrrrrr}\n",
      "\\toprule\n",
      "{} &  fpr\\_tpr95 &    de &    roc\\_auc &  pr\\_auc\\_in &  pr\\_auc\\_out &  fpr\\_tpr80 &         ap \\\\\n",
      "\\midrule\n",
      "1year &       81.8 &  42.6 &  23.370000 &   5.895751 &   87.792695 &       79.8 &   5.953859 \\\\\n",
      "2year &       99.6 &  50.0 &  16.913230 &  23.836657 &   48.373317 &       87.5 &  23.873148 \\\\\n",
      "4year &      100.0 &  50.0 &   7.438536 &  20.138206 &   45.384303 &       99.9 &  20.174115 \\\\\n",
      "6year &      100.0 &  50.0 &   3.663158 &  21.123650 &   42.583323 &      100.0 &  21.157054 \\\\\n",
      "\\bottomrule\n",
      "\\end{tabular}\n",
      "\n"
     ]
    }
   ],
   "source": [
    "print(metrics.T.to_latex())"
   ]
  },
  {
   "cell_type": "code",
   "execution_count": 30,
   "metadata": {},
   "outputs": [
    {
     "name": "stdout",
     "output_type": "stream",
     "text": [
      "Normalized confusion matrix\n",
      "[[9.97422680e-01 0.00000000e+00 8.59106529e-04 0.00000000e+00\n",
      "  1.71821306e-03]\n",
      " [0.00000000e+00 9.86842105e-01 1.31578947e-02 0.00000000e+00\n",
      "  0.00000000e+00]\n",
      " [0.00000000e+00 0.00000000e+00 9.31034483e-01 1.72413793e-02\n",
      "  5.17241379e-02]\n",
      " [0.00000000e+00 0.00000000e+00 1.34615385e-01 1.92307692e-02\n",
      "  8.46153846e-01]\n",
      " [0.00000000e+00 0.00000000e+00 3.50877193e-02 0.00000000e+00\n",
      "  9.64912281e-01]]\n",
      "Overall Accuracy: 0.7799\n"
     ]
    },
    {
     "data": {
      "text/plain": [
       "(<matplotlib.axes._subplots.AxesSubplot at 0x7f5d3070ccf8>,\n",
       " array([[9.97422680e-01, 0.00000000e+00, 8.59106529e-04, 0.00000000e+00,\n",
       "         1.71821306e-03],\n",
       "        [0.00000000e+00, 9.86842105e-01, 1.31578947e-02, 0.00000000e+00,\n",
       "         0.00000000e+00],\n",
       "        [0.00000000e+00, 0.00000000e+00, 9.31034483e-01, 1.72413793e-02,\n",
       "         5.17241379e-02],\n",
       "        [0.00000000e+00, 0.00000000e+00, 1.34615385e-01, 1.92307692e-02,\n",
       "         8.46153846e-01],\n",
       "        [0.00000000e+00, 0.00000000e+00, 3.50877193e-02, 0.00000000e+00,\n",
       "         9.64912281e-01]]))"
      ]
     },
     "execution_count": 30,
     "metadata": {},
     "output_type": "execute_result"
    },
    {
     "data": {
      "image/png": "[encoded data removed]",
      "text/plain": [
       "<Figure size 576x576 with 2 Axes>"
      ]
     },
     "metadata": {
      "needs_background": "light"
     },
     "output_type": "display_data"
    }
   ],
   "source": [
    "from helper import plot_confusion_matrix, split_valid\n",
    "plot_confusion_matrix(y_true, y_preds, classes=[\"Inlier\",\"1\", \"2\", \"4\", \"6\"], normalize=True)"
   ]
  },
  {
   "cell_type": "markdown",
   "metadata": {},
   "source": [
    "## TODO: train a 1 v Rest model\n",
    "### Make a run file plssss"
   ]
  },
  {
   "cell_type": "code",
   "execution_count": null,
   "metadata": {},
   "outputs": [],
   "source": []
  }
 ],
 "metadata": {
  "kernelspec": {
   "display_name": "Python 3",
   "language": "python",
   "name": "python3"
  },
  "language_info": {
   "codemirror_mode": {
    "name": "ipython",
    "version": 3
   },
   "file_extension": ".py",
   "mimetype": "text/x-python",
   "name": "python",
   "nbconvert_exporter": "python",
   "pygments_lexer": "ipython3",
   "version": "3.6.9"
  }
 },
 "nbformat": 4,
 "nbformat_minor": 4
}
