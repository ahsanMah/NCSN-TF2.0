{
 "cells": [
  {
   "cell_type": "code",
   "execution_count": 1,
   "metadata": {},
   "outputs": [
    {
     "data": {
      "text/plain": [
       "'2.3.1'"
      ]
     },
     "execution_count": 1,
     "metadata": {},
     "output_type": "execute_result"
    }
   ],
   "source": [
    "import os, sys\n",
    "os.environ[\"CUDA_VISIBLE_DEVICES\"] = \"0\"\n",
    "sys.path.append(\"/home/Developer/NCSN-TF2.0/\")\n",
    "\n",
    "import utils\n",
    "import pickle\n",
    "import numpy as np\n",
    "import tensorflow as tf\n",
    "import tensorflow_datasets as tfds\n",
    "import matplotlib.pyplot as plt\n",
    "\n",
    "from ood_detection_helper import *\n",
    "from datasets.dataset_loader import  *\n",
    "from tqdm import tqdm\n",
    "\n",
    "from PIL import Image\n",
    "from IPython.display import display\n",
    "from matplotlib.pyplot import imshow\n",
    "from tensorflow.compat.v1 import ConfigProto\n",
    "from tensorflow.compat.v1 import InteractiveSession\n",
    "\n",
    "tf.__version__"
   ]
  },
  {
   "cell_type": "code",
   "execution_count": 2,
   "metadata": {},
   "outputs": [
    {
     "name": "stdout",
     "output_type": "stream",
     "text": [
      "Num GPUs Available:  1\n"
     ]
    },
    {
     "data": {
      "text/plain": [
       "[PhysicalDevice(name='/physical_device:GPU:0', device_type='GPU')]"
      ]
     },
     "execution_count": 2,
     "metadata": {},
     "output_type": "execute_result"
    }
   ],
   "source": [
    "config = ConfigProto()\n",
    "config.gpu_options.allow_growth = True\n",
    "session = InteractiveSession(config=config)\n",
    "\n",
    "print(\"Num GPUs Available: \", len(tf.config.experimental.list_physical_devices('GPU')))\n",
    "tf.config.experimental.list_physical_devices('GPU')"
   ]
  },
  {
   "cell_type": "code",
   "execution_count": 3,
   "metadata": {},
   "outputs": [
    {
     "name": "stdout",
     "output_type": "stream",
     "text": [
      "(1, 32, 32, 3)\n",
      "Model: \"functional_1\"\n",
      "__________________________________________________________________________________________________\n",
      "Layer (type)                    Output Shape         Param #     Connected to                     \n",
      "==================================================================================================\n",
      "images (InputLayer)             [(None, 32, 32, 3)]  0                                            \n",
      "__________________________________________________________________________________________________\n",
      "conv2d (Conv2D)                 (None, 32, 32, 128)  3584        images[0][0]                     \n",
      "__________________________________________________________________________________________________\n",
      "idx_sigmas (InputLayer)         [(None,)]            0                                            \n",
      "__________________________________________________________________________________________________\n",
      "conditional_full_pre_activation (None, 32, 32, 128)  297472      conv2d[0][0]                     \n",
      "                                                                 idx_sigmas[0][0]                 \n",
      "__________________________________________________________________________________________________\n",
      "conditional_full_pre_activation (None, 16, 16, 256)  921728      conditional_full_pre_activation_b\n",
      "                                                                 idx_sigmas[0][0]                 \n",
      "__________________________________________________________________________________________________\n",
      "conditional_full_pre_activation (None, 16, 16, 256)  1184768     conditional_full_pre_activation_b\n",
      "                                                                 idx_sigmas[0][0]                 \n",
      "__________________________________________________________________________________________________\n",
      "conditional_full_pre_activation (None, 16, 16, 256)  1184768     conditional_full_pre_activation_b\n",
      "                                                                 idx_sigmas[0][0]                 \n",
      "__________________________________________________________________________________________________\n",
      "refine_block_3 (RefineBlock)    (None, 16, 16, 256)  4739072     conditional_full_pre_activation_b\n",
      "                                                                 idx_sigmas[0][0]                 \n",
      "__________________________________________________________________________________________________\n",
      "refine_block_2 (RefineBlock)    (None, 16, 16, 256)  8293376     conditional_full_pre_activation_b\n",
      "                                                                 refine_block_3[0][0]             \n",
      "                                                                 idx_sigmas[0][0]                 \n",
      "__________________________________________________________________________________________________\n",
      "refine_block_1 (RefineBlock)    (None, 16, 16, 256)  8293376     conditional_full_pre_activation_b\n",
      "                                                                 refine_block_2[0][0]             \n",
      "                                                                 idx_sigmas[0][0]                 \n",
      "__________________________________________________________________________________________________\n",
      "refine_block (RefineBlock)      (None, 32, 32, 128)  2858752     conditional_full_pre_activation_b\n",
      "                                                                 refine_block_1[0][0]             \n",
      "                                                                 idx_sigmas[0][0]                 \n",
      "__________________________________________________________________________________________________\n",
      "conditional_instance_normalizat (None, 32, 32, 128)  1152        refine_block[0][0]               \n",
      "                                                                 idx_sigmas[0][0]                 \n",
      "__________________________________________________________________________________________________\n",
      "tf_op_layer_Elu (TensorFlowOpLa [(None, 32, 32, 128) 0           conditional_instance_normalizatio\n",
      "__________________________________________________________________________________________________\n",
      "conv2d_21 (Conv2D)              (None, 32, 32, 3)    3459        tf_op_layer_Elu[0][0]            \n",
      "==================================================================================================\n",
      "Total params: 27,781,507\n",
      "Trainable params: 27,781,507\n",
      "Non-trainable params: 0\n",
      "__________________________________________________________________________________________________\n",
      "None\n",
      "Trying to load latest model from saved_models/refinenet128_cifar10_L3_SH1e+00_SL1e-02/train_100_0/\n",
      "Loaded model: saved_models/refinenet128_cifar10_L3_SH1e+00_SL1e-02/train_100_0/ckpt-36\n",
      "WARNING:tensorflow:Unresolved object in checkpoint: (root).optimizer.iter\n",
      "WARNING:tensorflow:Unresolved object in checkpoint: (root).optimizer.beta_1\n",
      "WARNING:tensorflow:Unresolved object in checkpoint: (root).optimizer.beta_2\n",
      "WARNING:tensorflow:Unresolved object in checkpoint: (root).optimizer.decay\n",
      "WARNING:tensorflow:Unresolved object in checkpoint: (root).optimizer.learning_rate\n",
      "WARNING:tensorflow:A checkpoint was restored (e.g. tf.train.Checkpoint.restore or tf.keras.Model.load_weights) but not all checkpointed values were used. See above for specific issues. Use expect_partial() on the load status object, e.g. tf.train.Checkpoint.restore(...).expect_partial(), to silence these warnings, or use assert_consumed() to make the check explicit. See https://www.tensorflow.org/guide/checkpoint#loading_mechanics for details.\n"
     ]
    }
   ],
   "source": [
    "model = load_model(inlier_name=\"cifar10\", s_high=1, num_L=3)"
   ]
  },
  {
   "cell_type": "code",
   "execution_count": 6,
   "metadata": {},
   "outputs": [],
   "source": [
    "BATCHSIZE = 512"
   ]
  },
  {
   "cell_type": "markdown",
   "metadata": {},
   "source": [
    "### CIFAR"
   ]
  },
  {
   "cell_type": "code",
   "execution_count": 7,
   "metadata": {},
   "outputs": [],
   "source": [
    "with tf.device('CPU'):\n",
    "    data_generators = tfds.load(name=\"cifar10\", batch_size=-1, shuffle_files=True)\n",
    "    cifar10_test = tf.data.Dataset.from_tensor_slices(data_generators['test'][\"image\"])\n",
    "    cifar10_test = cifar10_test.map(lambda x: x/255, num_parallel_calls=AUTOTUNE)\n",
    "    cifar10_test = cifar10_test.batch(BATCHSIZE).take(1).cache()\n",
    "    \n",
    "    cifar10_train  = tf.data.Dataset.from_tensor_slices(data_generators['train'][\"image\"])\n",
    "    cifar10_train = cifar10_train.map(lambda x: x/255, num_parallel_calls=AUTOTUNE)\n",
    "    cifar10_train = cifar10_train.batch(BATCHSIZE).take(4).cache()"
   ]
  },
  {
   "cell_type": "code",
   "execution_count": 9,
   "metadata": {},
   "outputs": [
    {
     "name": "stderr",
     "output_type": "stream",
     "text": [
      "Sigma: 0.0100: 100%|██████████| 3/3 [00:22<00:00,  7.55s/it]"
     ]
    },
    {
     "name": "stdout",
     "output_type": "stream",
     "text": [
      "CPU times: user 7.4 s, sys: 7.75 s, total: 15.1 s\n",
      "Wall time: 22.7 s\n"
     ]
    },
    {
     "name": "stderr",
     "output_type": "stream",
     "text": [
      "\n"
     ]
    }
   ],
   "source": [
    "%%time\n",
    "cifar10_train_scores = compute_weighted_scores(model, cifar10_train)"
   ]
  },
  {
   "cell_type": "code",
   "execution_count": 10,
   "metadata": {},
   "outputs": [
    {
     "name": "stderr",
     "output_type": "stream",
     "text": [
      "Sigma: 0.0100: 100%|██████████| 3/3 [00:04<00:00,  1.65s/it]"
     ]
    },
    {
     "name": "stdout",
     "output_type": "stream",
     "text": [
      "CPU times: user 2.35 s, sys: 3.15 s, total: 5.5 s\n",
      "Wall time: 5.91 s\n"
     ]
    },
    {
     "name": "stderr",
     "output_type": "stream",
     "text": [
      "\n"
     ]
    }
   ],
   "source": [
    "%%time\n",
    "cifar10_scores = compute_weighted_scores(model, cifar10_test)"
   ]
  },
  {
   "cell_type": "markdown",
   "metadata": {},
   "source": [
    "### SVHN"
   ]
  },
  {
   "cell_type": "code",
   "execution_count": 11,
   "metadata": {},
   "outputs": [],
   "source": [
    "with tf.device('CPU'):\n",
    "    data_generators = tfds.load(name=\"svhn_cropped\", batch_size=-1, shuffle_files=True)\n",
    "    svhn_test = tf.data.Dataset.from_tensor_slices(data_generators['test'][\"image\"])\n",
    "#     svhn_test = svhn_test.take(26000)\n",
    "    svhn_test = svhn_test.map(lambda x: x/255, num_parallel_calls=AUTOTUNE)\n",
    "    svhn_test = svhn_test.batch(BATCHSIZE).take(1)"
   ]
  },
  {
   "cell_type": "code",
   "execution_count": 12,
   "metadata": {},
   "outputs": [
    {
     "name": "stderr",
     "output_type": "stream",
     "text": [
      "Sigma: 0.0100: 100%|██████████| 3/3 [00:04<00:00,  1.66s/it]"
     ]
    },
    {
     "name": "stdout",
     "output_type": "stream",
     "text": [
      "CPU times: user 2.58 s, sys: 3.4 s, total: 5.99 s\n",
      "Wall time: 5.01 s\n"
     ]
    },
    {
     "name": "stderr",
     "output_type": "stream",
     "text": [
      "\n"
     ]
    }
   ],
   "source": [
    "%%time\n",
    "svhn_scores = compute_weighted_scores(model, svhn_test)"
   ]
  },
  {
   "cell_type": "code",
   "execution_count": 13,
   "metadata": {},
   "outputs": [],
   "source": [
    "scores = {}\n",
    "scores[\"train\"] = cifar10_train_scores\n",
    "scores[\"cifar\"] = cifar10_scores\n",
    "scores[\"svhn\"] = svhn_scores"
   ]
  },
  {
   "cell_type": "code",
   "execution_count": 14,
   "metadata": {},
   "outputs": [
    {
     "data": {
      "text/plain": [
       "dict_keys(['train', 'cifar', 'svhn'])"
      ]
     },
     "execution_count": 14,
     "metadata": {},
     "output_type": "execute_result"
    }
   ],
   "source": [
    "scores.keys()"
   ]
  },
  {
   "cell_type": "code",
   "execution_count": 15,
   "metadata": {},
   "outputs": [
    {
     "data": {
      "text/plain": [
       "[TensorShape([2048, 3]), TensorShape([512, 3]), TensorShape([512, 3])]"
      ]
     },
     "execution_count": 15,
     "metadata": {},
     "output_type": "execute_result"
    }
   ],
   "source": [
    "[x.shape for x in scores.values()]"
   ]
  },
  {
   "cell_type": "code",
   "execution_count": 16,
   "metadata": {},
   "outputs": [
    {
     "data": {
      "text/plain": [
       "dict_keys(['train', 'cifar', 'svhn'])"
      ]
     },
     "execution_count": 16,
     "metadata": {},
     "output_type": "execute_result"
    }
   ],
   "source": [
    "scores.keys()"
   ]
  },
  {
   "cell_type": "code",
   "execution_count": 17,
   "metadata": {},
   "outputs": [],
   "source": [
    "with open(\"ablation/SH1_L3.p\", \"wb\") as f:\n",
    "    pickle.dump(scores, f)"
   ]
  },
  {
   "cell_type": "code",
   "execution_count": 133,
   "metadata": {},
   "outputs": [
    {
     "name": "stderr",
     "output_type": "stream",
     "text": [
      "Sigma: 50.0000:   0%|          | 0/232 [00:00<?, ?it/s]"
     ]
    },
    {
     "name": "stdout",
     "output_type": "stream",
     "text": [
      "LSUN\n"
     ]
    },
    {
     "name": "stderr",
     "output_type": "stream",
     "text": [
      "Sigma: 0.0100: 100%|██████████| 232/232 [02:59<00:00,  1.29it/s]\n"
     ]
    },
    {
     "name": "stdout",
     "output_type": "stream",
     "text": [
      "LSUN_resize\n"
     ]
    },
    {
     "name": "stderr",
     "output_type": "stream",
     "text": [
      "Sigma: 0.0100: 100%|██████████| 232/232 [02:59<00:00,  1.29it/s]\n"
     ]
    },
    {
     "name": "stdout",
     "output_type": "stream",
     "text": [
      "Imagenet\n"
     ]
    },
    {
     "name": "stderr",
     "output_type": "stream",
     "text": [
      "Sigma: 0.0100: 100%|██████████| 232/232 [02:59<00:00,  1.29it/s]\n"
     ]
    },
    {
     "name": "stdout",
     "output_type": "stream",
     "text": [
      "Imagenet_resize\n"
     ]
    },
    {
     "name": "stderr",
     "output_type": "stream",
     "text": [
      "Sigma: 0.0100: 100%|██████████| 232/232 [02:59<00:00,  1.29it/s]\n"
     ]
    },
    {
     "name": "stdout",
     "output_type": "stream",
     "text": [
      "iSUN\n"
     ]
    },
    {
     "name": "stderr",
     "output_type": "stream",
     "text": [
      "Sigma: 0.0100: 100%|██████████| 232/232 [02:59<00:00,  1.29it/s]"
     ]
    },
    {
     "name": "stdout",
     "output_type": "stream",
     "text": [
      "CPU times: user 6min 32s, sys: 8min 36s, total: 15min 8s\n",
      "Wall time: 15min\n"
     ]
    },
    {
     "name": "stderr",
     "output_type": "stream",
     "text": [
      "\n"
     ]
    }
   ],
   "source": [
    "%%time\n",
    "scores = {}\n",
    "progress_bar = zip(datasets, test_ds)\n",
    "\n",
    "for name, outlier in progress_bar:\n",
    "    print(name)\n",
    "    scores[name] = compute_weighted_scores(model, outlier)"
   ]
  },
  {
   "cell_type": "code",
   "execution_count": 128,
   "metadata": {},
   "outputs": [],
   "source": [
    "test_ds = []\n",
    "BATCHSIZE = 512\n",
    "for ds_name in datasets:\n",
    "    data_dir = DATADIR + ds_name\n",
    "    list_ds = tf.data.Dataset.list_files(str(data_dir+'/*/*'))\n",
    "    ds = list_ds.map(process_path, num_parallel_calls=AUTOTUNE)\n",
    "    ds = ds.batch(BATCHSIZE)\n",
    "    ds = ds.take(1)\n",
    "    ds = ds.prefetch(buffer_size=AUTOTUNE).cache()\n",
    "    test_ds.append(ds)"
   ]
  },
  {
   "cell_type": "code",
   "execution_count": 129,
   "metadata": {},
   "outputs": [
    {
     "name": "stdout",
     "output_type": "stream",
     "text": [
      "(array([ 32, 139, 335, 523, 529, 429, 416, 391, 213,  65]), array([0. , 0.1, 0.2, 0.3, 0.4, 0.5, 0.6, 0.7, 0.8, 0.9, 1. ],\n",
      "      dtype=float32))\n"
     ]
    }
   ],
   "source": [
    "for imgs in test_ds[-1].take(1):\n",
    "    print(np.histogram(imgs[0]))"
   ]
  },
  {
   "cell_type": "code",
   "execution_count": 130,
   "metadata": {},
   "outputs": [
    {
     "name": "stdout",
     "output_type": "stream",
     "text": [
      "LSUN\n"
     ]
    },
    {
     "data": {
      "image/png": "[encoded data removed]",
      "text/plain": [
       "<Figure size 432x288 with 1 Axes>"
      ]
     },
     "metadata": {
      "needs_background": "light"
     },
     "output_type": "display_data"
    },
    {
     "name": "stdout",
     "output_type": "stream",
     "text": [
      "LSUN_resize\n"
     ]
    },
    {
     "data": {
      "image/png": "[encoded data removed]",
      "text/plain": [
       "<Figure size 432x288 with 1 Axes>"
      ]
     },
     "metadata": {
      "needs_background": "light"
     },
     "output_type": "display_data"
    },
    {
     "name": "stdout",
     "output_type": "stream",
     "text": [
      "Imagenet\n"
     ]
    },
    {
     "data": {
      "image/png": "[encoded data removed]",
      "text/plain": [
       "<Figure size 432x288 with 1 Axes>"
      ]
     },
     "metadata": {
      "needs_background": "light"
     },
     "output_type": "display_data"
    },
    {
     "name": "stdout",
     "output_type": "stream",
     "text": [
      "Imagenet_resize\n"
     ]
    },
    {
     "data": {
      "image/png": "[encoded data removed]",
      "text/plain": [
       "<Figure size 432x288 with 1 Axes>"
      ]
     },
     "metadata": {
      "needs_background": "light"
     },
     "output_type": "display_data"
    },
    {
     "name": "stdout",
     "output_type": "stream",
     "text": [
      "iSUN\n"
     ]
    },
    {
     "data": {
      "image/png": "[encoded data removed]",
      "text/plain": [
       "<Figure size 432x288 with 1 Axes>"
      ]
     },
     "metadata": {
      "needs_background": "light"
     },
     "output_type": "display_data"
    }
   ],
   "source": [
    "for name, ds in zip(datasets, test_ds):\n",
    "    image = next(iter(ds.take(1)))\n",
    "    print(name)\n",
    "    plt.imshow(image[0].numpy())\n",
    "    plt.show()"
   ]
  },
  {
   "cell_type": "markdown",
   "metadata": {},
   "source": [
    "### Artificial Datasets"
   ]
  },
  {
   "cell_type": "code",
   "execution_count": 136,
   "metadata": {},
   "outputs": [],
   "source": [
    "N_BATCHES = 1\n",
    "\n",
    "x = tf.random.normal(shape=(BATCHSIZE*N_BATCHES, 32,32,3) , mean=0.5, stddev=1.0)\n",
    "x = tf.clip_by_value(x, 0.0, 1.0)\n",
    "gaussian_test_batches = tf.split(x, N_BATCHES)\n",
    "\n",
    "x = tf.random.uniform(shape=(BATCHSIZE*N_BATCHES, 32,32,3), minval=0.0, maxval=1.0)\n",
    "uniform_test_batches = tf.split(x, N_BATCHES)"
   ]
  },
  {
   "cell_type": "code",
   "execution_count": 137,
   "metadata": {},
   "outputs": [],
   "source": [
    "artificial_ood = (gaussian_test_batches, uniform_test_batches)"
   ]
  },
  {
   "cell_type": "code",
   "execution_count": 138,
   "metadata": {},
   "outputs": [
    {
     "name": "stderr",
     "output_type": "stream",
     "text": [
      "Sigma: 0.0100: 100%|██████████| 232/232 [02:55<00:00,  1.32it/s]\n",
      "Sigma: 0.0100: 100%|██████████| 232/232 [02:56<00:00,  1.32it/s]"
     ]
    },
    {
     "name": "stdout",
     "output_type": "stream",
     "text": [
      "CPU times: user 2min 29s, sys: 3min 25s, total: 5min 54s\n",
      "Wall time: 5min 52s\n"
     ]
    },
    {
     "name": "stderr",
     "output_type": "stream",
     "text": [
      "\n"
     ]
    }
   ],
   "source": [
    "%%time\n",
    "for name, outlier in zip([\"gaussian\", \"uniform\"], artificial_ood):\n",
    "    scores[name] = compute_weighted_scores(model,outlier)"
   ]
  },
  {
   "cell_type": "code",
   "execution_count": 139,
   "metadata": {},
   "outputs": [
    {
     "data": {
      "text/plain": [
       "dict_keys(['LSUN', 'LSUN_resize', 'Imagenet', 'Imagenet_resize', 'iSUN', 'gaussian', 'uniform'])"
      ]
     },
     "execution_count": 139,
     "metadata": {},
     "output_type": "execute_result"
    }
   ],
   "source": [
    "scores.keys()"
   ]
  },
  {
   "cell_type": "code",
   "execution_count": 140,
   "metadata": {},
   "outputs": [
    {
     "data": {
      "text/plain": [
       "TensorShape([512, 232])"
      ]
     },
     "execution_count": 140,
     "metadata": {},
     "output_type": "execute_result"
    }
   ],
   "source": [
    "scores[\"gaussian\"].shape"
   ]
  },
  {
   "cell_type": "code",
   "execution_count": 22,
   "metadata": {},
   "outputs": [],
   "source": [
    "# with open(\"svhn/scores_full_norm_test.p\", \"wb\") as f:\n",
    "#     pickle.dump(svhn_scores, f)"
   ]
  },
  {
   "cell_type": "markdown",
   "metadata": {},
   "source": [
    "> ### 5% Held out Train"
   ]
  },
  {
   "cell_type": "code",
   "execution_count": null,
   "metadata": {},
   "outputs": [],
   "source": [
    "with tf.device('CPU'):\n",
    "    data_generators = tfds.load(name=\"svhn_cropped\", batch_size=-1, data_dir=\"data\", shuffle_files=True)\n",
    "    svhn_test = tf.data.Dataset.from_tensor_slices(data_generators['train[-5%:]'][\"image\"])\n",
    "    svhn_test = svhn_test.map(lambda x: x/255, num_parallel_calls=AUTOTUNE)\n",
    "    svhn_test = svhn_test.batch(260)"
   ]
  },
  {
   "cell_type": "markdown",
   "metadata": {},
   "source": [
    "### CIFAR 10.1"
   ]
  },
  {
   "cell_type": "code",
   "execution_count": 23,
   "metadata": {},
   "outputs": [],
   "source": [
    "with tf.device('CPU'):\n",
    "    data_generators = tfds.load(name=\"cifar10\", batch_size=-1, data_dir=\"data\", shuffle_files=True)\n",
    "    cifar101_test = tf.data.Dataset.from_tensor_slices(data_generators['test'][\"image\"])\n",
    "    cifar101_test = cifar101_test.map(lambda x: x/255, num_parallel_calls=AUTOTUNE)\n",
    "    cifar101_test = cifar101_test.batch(512)"
   ]
  },
  {
   "cell_type": "code",
   "execution_count": 24,
   "metadata": {},
   "outputs": [
    {
     "name": "stdout",
     "output_type": "stream",
     "text": [
      "(array([415, 783, 297, 227, 194, 150,  95, 354, 389, 168]), array([0.        , 0.08627451, 0.17254902, 0.25882354, 0.34509805,\n",
      "       0.43137255, 0.5176471 , 0.6039216 , 0.6901961 , 0.7764706 ,\n",
      "       0.8627451 ], dtype=float32))\n"
     ]
    },
    {
     "data": {
      "image/png": "[encoded data removed]",
      "text/plain": [
       "<Figure size 432x288 with 1 Axes>"
      ]
     },
     "metadata": {
      "needs_background": "light"
     },
     "output_type": "display_data"
    }
   ],
   "source": [
    "for imgs in cifar101_test.take(1):\n",
    "    print(np.histogram(imgs[0]))\n",
    "    plt.imshow(imgs[0].numpy())\n",
    "    plt.show()"
   ]
  },
  {
   "cell_type": "code",
   "execution_count": 25,
   "metadata": {},
   "outputs": [
    {
     "name": "stderr",
     "output_type": "stream",
     "text": [
      "Sigma: 0.0100: 100%|██████████| 10/10 [00:37<00:00,  3.75s/it]\n"
     ]
    },
    {
     "name": "stdout",
     "output_type": "stream",
     "text": [
      "CPU times: user 15.6 s, sys: 11 s, total: 26.7 s\n",
      "Wall time: 38.1 s\n"
     ]
    }
   ],
   "source": [
    "%%time\n",
    "cifar101_scores = compute_scores(model, cifar101_test)\n",
    "\n",
    "cifar101_scores = weighted_norm(cifar101_scores)"
   ]
  },
  {
   "cell_type": "code",
   "execution_count": 26,
   "metadata": {},
   "outputs": [],
   "source": [
    "with open(\"cifar101_scores_ckpt-20.p\", \"wb\") as f:\n",
    "    pickle.dump(cifar101_scores, f)"
   ]
  },
  {
   "cell_type": "code",
   "execution_count": null,
   "metadata": {},
   "outputs": [],
   "source": []
  }
 ],
 "metadata": {
  "kernelspec": {
   "display_name": "Python 3",
   "language": "python",
   "name": "python3"
  },
  "language_info": {
   "codemirror_mode": {
    "name": "ipython",
    "version": 3
   },
   "file_extension": ".py",
   "mimetype": "text/x-python",
   "name": "python",
   "nbconvert_exporter": "python",
   "pygments_lexer": "ipython3",
   "version": "3.6.9"
  }
 },
 "nbformat": 4,
 "nbformat_minor": 4
}
