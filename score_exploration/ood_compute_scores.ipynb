{
 "cells": [
  {
   "cell_type": "code",
   "execution_count": 1,
   "metadata": {},
   "outputs": [
    {
     "data": {
      "text/plain": [
       "'2.2.0'"
      ]
     },
     "execution_count": 1,
     "metadata": {},
     "output_type": "execute_result"
    }
   ],
   "source": [
    "import os, sys\n",
    "os.environ[\"CUDA_VISIBLE_DEVICES\"] = \"0\"\n",
    "sys.path.append(\"/home/Developer/NCSN-TF2.0/\")\n",
    "\n",
    "import utils\n",
    "import pickle\n",
    "import numpy as np\n",
    "import tensorflow as tf\n",
    "import tensorflow_datasets as tfds\n",
    "import matplotlib.pyplot as plt\n",
    "\n",
    "from ood_detection_helper import *\n",
    "from datasets.dataset_loader import  *\n",
    "from tqdm import tqdm\n",
    "\n",
    "from PIL import Image\n",
    "from IPython.display import display\n",
    "from matplotlib.pyplot import imshow\n",
    "from tensorflow.compat.v1 import ConfigProto\n",
    "from tensorflow.compat.v1 import InteractiveSession\n",
    "\n",
    "tf.__version__"
   ]
  },
  {
   "cell_type": "code",
   "execution_count": 2,
   "metadata": {},
   "outputs": [
    {
     "name": "stdout",
     "output_type": "stream",
     "text": [
      "Num GPUs Available:  1\n"
     ]
    },
    {
     "data": {
      "text/plain": [
       "[PhysicalDevice(name='/physical_device:GPU:0', device_type='GPU')]"
      ]
     },
     "execution_count": 2,
     "metadata": {},
     "output_type": "execute_result"
    }
   ],
   "source": [
    "config = ConfigProto()\n",
    "config.gpu_options.allow_growth = True\n",
    "session = InteractiveSession(config=config)\n",
    "\n",
    "print(\"Num GPUs Available: \", len(tf.config.experimental.list_physical_devices('GPU')))\n",
    "tf.config.experimental.list_physical_devices('GPU')"
   ]
  },
  {
   "cell_type": "code",
   "execution_count": 3,
   "metadata": {},
   "outputs": [],
   "source": [
    "SIGMAS = utils.get_sigma_levels().numpy()"
   ]
  },
  {
   "cell_type": "code",
   "execution_count": 4,
   "metadata": {},
   "outputs": [
    {
     "name": "stdout",
     "output_type": "stream",
     "text": [
      "(1, 32, 32, 3)\n",
      "Model: \"model\"\n",
      "__________________________________________________________________________________________________\n",
      "Layer (type)                    Output Shape         Param #     Connected to                     \n",
      "==================================================================================================\n",
      "images (InputLayer)             [(None, 32, 32, 3)]  0                                            \n",
      "__________________________________________________________________________________________________\n",
      "conv2d (Conv2D)                 (None, 32, 32, 128)  3584        images[0][0]                     \n",
      "__________________________________________________________________________________________________\n",
      "idx_sigmas (InputLayer)         [(None,)]            0                                            \n",
      "__________________________________________________________________________________________________\n",
      "conditional_full_pre_activation (None, 32, 32, 128)  302848      conv2d[0][0]                     \n",
      "                                                                 idx_sigmas[0][0]                 \n",
      "__________________________________________________________________________________________________\n",
      "conditional_full_pre_activation (None, 16, 16, 256)  929792      conditional_full_pre_activation_b\n",
      "                                                                 idx_sigmas[0][0]                 \n",
      "__________________________________________________________________________________________________\n",
      "conditional_full_pre_activation (None, 16, 16, 256)  1195520     conditional_full_pre_activation_b\n",
      "                                                                 idx_sigmas[0][0]                 \n",
      "__________________________________________________________________________________________________\n",
      "conditional_full_pre_activation (None, 16, 16, 256)  1195520     conditional_full_pre_activation_b\n",
      "                                                                 idx_sigmas[0][0]                 \n",
      "__________________________________________________________________________________________________\n",
      "refine_block_3 (RefineBlock)    (None, 16, 16, 256)  4782080     conditional_full_pre_activation_b\n",
      "                                                                 idx_sigmas[0][0]                 \n",
      "__________________________________________________________________________________________________\n",
      "refine_block_2 (RefineBlock)    (None, 16, 16, 256)  8368640     conditional_full_pre_activation_b\n",
      "                                                                 refine_block_3[0][0]             \n",
      "                                                                 idx_sigmas[0][0]                 \n",
      "__________________________________________________________________________________________________\n",
      "refine_block_1 (RefineBlock)    (None, 16, 16, 256)  8368640     conditional_full_pre_activation_b\n",
      "                                                                 refine_block_2[0][0]             \n",
      "                                                                 idx_sigmas[0][0]                 \n",
      "__________________________________________________________________________________________________\n",
      "refine_block (RefineBlock)      (None, 32, 32, 128)  2909824     conditional_full_pre_activation_b\n",
      "                                                                 refine_block_1[0][0]             \n",
      "                                                                 idx_sigmas[0][0]                 \n",
      "__________________________________________________________________________________________________\n",
      "conditional_instance_normalizat (None, 32, 32, 128)  3840        refine_block[0][0]               \n",
      "                                                                 idx_sigmas[0][0]                 \n",
      "__________________________________________________________________________________________________\n",
      "tf_op_layer_Elu (TensorFlowOpLa [(None, 32, 32, 128) 0           conditional_instance_normalizatio\n",
      "__________________________________________________________________________________________________\n",
      "conv2d_21 (Conv2D)              (None, 32, 32, 3)    3459        tf_op_layer_Elu[0][0]            \n",
      "==================================================================================================\n",
      "Total params: 28,063,747\n",
      "Trainable params: 28,063,747\n",
      "Non-trainable params: 0\n",
      "__________________________________________________________________________________________________\n",
      "None\n",
      "Trying to load checkpoint with step 8  model from saved_models/refinenet128_cifar10_L10_SH1e+00_SL1e-02/train_95_5/\n",
      "['ckpt-8.data-00000-of-00002', 'ckpt-8.data-00001-of-00002', 'ckpt-8.index']\n",
      "Loaded model: saved_models/refinenet128_cifar10_L10_SH1e+00_SL1e-02/train_95_5/ckpt-8\n",
      "WARNING:tensorflow:Unresolved object in checkpoint: (root).optimizer.iter\n",
      "WARNING:tensorflow:Unresolved object in checkpoint: (root).optimizer.beta_1\n",
      "WARNING:tensorflow:Unresolved object in checkpoint: (root).optimizer.beta_2\n",
      "WARNING:tensorflow:Unresolved object in checkpoint: (root).optimizer.decay\n",
      "WARNING:tensorflow:Unresolved object in checkpoint: (root).optimizer.learning_rate\n",
      "WARNING:tensorflow:A checkpoint was restored (e.g. tf.train.Checkpoint.restore or tf.keras.Model.load_weights) but not all checkpointed values were used. See above for specific issues. Use expect_partial() on the load status object, e.g. tf.train.Checkpoint.restore(...).expect_partial(), to silence these warnings, or use assert_consumed() to make the check explicit. See https://www.tensorflow.org/guide/checkpoint#loading_mechanics for details.\n"
     ]
    }
   ],
   "source": [
    "model = load_model(inlier_name=\"cifar10\", checkpoint=8, split=\"95,5\")"
   ]
  },
  {
   "cell_type": "code",
   "execution_count": 5,
   "metadata": {},
   "outputs": [],
   "source": [
    "datasets = [\"LSUN\", \"LSUN_resize\", \"Imagenet\", \"Imagenet_resize\", \"iSUN\"] \n",
    "img_height, img_width = 32, 32"
   ]
  },
  {
   "cell_type": "code",
   "execution_count": 6,
   "metadata": {},
   "outputs": [],
   "source": [
    "@tf.function\n",
    "def decode_img(img):\n",
    "  # convert the compressed string to a 3D uint8 tensor\n",
    "  img = tf.image.decode_jpeg(img, channels=3)\n",
    "  # resize the image to the desired size\n",
    "  return tf.image.resize(img, [img_height, img_width])"
   ]
  },
  {
   "cell_type": "code",
   "execution_count": 7,
   "metadata": {},
   "outputs": [],
   "source": [
    "@tf.function\n",
    "def process_path(file_path):\n",
    "  # load the raw data from the file as a string\n",
    "    img = tf.io.read_file(file_path)\n",
    "    img = decode_img(img)\n",
    "    img /= 255 \n",
    "    return img"
   ]
  },
  {
   "cell_type": "code",
   "execution_count": 8,
   "metadata": {},
   "outputs": [],
   "source": [
    "test_ds = []\n",
    "\n",
    "for ds_name in datasets:\n",
    "    data_dir = 'data/' + ds_name\n",
    "    list_ds = tf.data.Dataset.list_files(str(data_dir+'/*/*'))\n",
    "    ds = list_ds.map(process_path, num_parallel_calls=AUTOTUNE)\n",
    "    ds = ds.batch(512)\n",
    "    ds = ds.prefetch(buffer_size=AUTOTUNE)\n",
    "    test_ds.append(ds)"
   ]
  },
  {
   "cell_type": "code",
   "execution_count": 9,
   "metadata": {},
   "outputs": [
    {
     "name": "stdout",
     "output_type": "stream",
     "text": [
      "(array([160, 348, 618, 679, 549, 228, 162,  92,  58, 178]), array([0. , 0.1, 0.2, 0.3, 0.4, 0.5, 0.6, 0.7, 0.8, 0.9, 1. ],\n",
      "      dtype=float32))\n"
     ]
    }
   ],
   "source": [
    "for imgs in test_ds[-1].take(1):\n",
    "    print(np.histogram(imgs[0]))"
   ]
  },
  {
   "cell_type": "code",
   "execution_count": 10,
   "metadata": {},
   "outputs": [
    {
     "name": "stdout",
     "output_type": "stream",
     "text": [
      "LSUN\n"
     ]
    },
    {
     "data": {
      "image/png": "[encoded data removed]",
      "text/plain": [
       "<Figure size 432x288 with 1 Axes>"
      ]
     },
     "metadata": {
      "needs_background": "light"
     },
     "output_type": "display_data"
    },
    {
     "name": "stdout",
     "output_type": "stream",
     "text": [
      "LSUN_resize\n"
     ]
    },
    {
     "data": {
      "image/png": "[encoded data removed]",
      "text/plain": [
       "<Figure size 432x288 with 1 Axes>"
      ]
     },
     "metadata": {
      "needs_background": "light"
     },
     "output_type": "display_data"
    },
    {
     "name": "stdout",
     "output_type": "stream",
     "text": [
      "Imagenet\n"
     ]
    },
    {
     "data": {
      "image/png": "[encoded data removed]",
      "text/plain": [
       "<Figure size 432x288 with 1 Axes>"
      ]
     },
     "metadata": {
      "needs_background": "light"
     },
     "output_type": "display_data"
    },
    {
     "name": "stdout",
     "output_type": "stream",
     "text": [
      "Imagenet_resize\n"
     ]
    },
    {
     "data": {
      "image/png": "[encoded data removed]",
      "text/plain": [
       "<Figure size 432x288 with 1 Axes>"
      ]
     },
     "metadata": {
      "needs_background": "light"
     },
     "output_type": "display_data"
    },
    {
     "name": "stdout",
     "output_type": "stream",
     "text": [
      "iSUN\n"
     ]
    },
    {
     "data": {
      "image/png": "[encoded data removed]",
      "text/plain": [
       "<Figure size 432x288 with 1 Axes>"
      ]
     },
     "metadata": {
      "needs_background": "light"
     },
     "output_type": "display_data"
    }
   ],
   "source": [
    "for name, ds in zip(datasets, test_ds):\n",
    "    image = next(iter(ds.take(1)))\n",
    "    print(name)\n",
    "    plt.imshow(image[0].numpy())\n",
    "    plt.show()"
   ]
  },
  {
   "cell_type": "code",
   "execution_count": 11,
   "metadata": {},
   "outputs": [
    {
     "name": "stderr",
     "output_type": "stream",
     "text": [
      "LSUN: : 0it [00:00, ?it/s]\n",
      "  0%|          | 0/10 [00:00<?, ?it/s]\u001b[A\n",
      "Sigma: 1.0000:   0%|          | 0/10 [00:00<?, ?it/s]\u001b[A\n",
      "Sigma: 1.0000:  10%|█         | 1/10 [00:21<03:15, 21.73s/it]\u001b[A\n",
      "Sigma: 0.5995:  10%|█         | 1/10 [00:21<03:15, 21.73s/it]\u001b[A\n",
      "Sigma: 0.5995:  20%|██        | 2/10 [00:39<02:44, 20.57s/it]\u001b[A\n",
      "Sigma: 0.3594:  20%|██        | 2/10 [00:39<02:44, 20.57s/it]\u001b[A\n",
      "Sigma: 0.3594:  30%|███       | 3/10 [00:57<02:18, 19.82s/it]\u001b[A\n",
      "Sigma: 0.2154:  30%|███       | 3/10 [00:57<02:18, 19.82s/it]\u001b[A\n",
      "Sigma: 0.2154:  40%|████      | 4/10 [01:15<01:55, 19.31s/it]\u001b[A\n",
      "Sigma: 0.1292:  40%|████      | 4/10 [01:15<01:55, 19.31s/it]\u001b[A\n",
      "Sigma: 0.1292:  50%|█████     | 5/10 [01:33<01:34, 18.95s/it]\u001b[A\n",
      "Sigma: 0.0774:  50%|█████     | 5/10 [01:33<01:34, 18.95s/it]\u001b[A\n",
      "Sigma: 0.0774:  60%|██████    | 6/10 [01:52<01:14, 18.70s/it]\u001b[A\n",
      "Sigma: 0.0464:  60%|██████    | 6/10 [01:52<01:14, 18.70s/it]\u001b[A\n",
      "Sigma: 0.0464:  70%|███████   | 7/10 [02:10<00:55, 18.53s/it]\u001b[A\n",
      "Sigma: 0.0278:  70%|███████   | 7/10 [02:10<00:55, 18.53s/it]\u001b[A\n",
      "Sigma: 0.0278:  80%|████████  | 8/10 [02:28<00:36, 18.42s/it]\u001b[A\n",
      "Sigma: 0.0167:  80%|████████  | 8/10 [02:28<00:36, 18.42s/it]\u001b[A\n",
      "Sigma: 0.0167:  90%|█████████ | 9/10 [02:46<00:18, 18.35s/it]\u001b[A\n",
      "Sigma: 0.0100:  90%|█████████ | 9/10 [02:46<00:18, 18.35s/it]\u001b[A\n",
      "Sigma: 0.0100: 100%|██████████| 10/10 [03:04<00:00, 18.47s/it]\u001b[A\n",
      "LSUN_resize: : 1it [03:04, 184.68s/it]\n",
      "  0%|          | 0/10 [00:00<?, ?it/s]\u001b[A\n",
      "Sigma: 1.0000:   0%|          | 0/10 [00:00<?, ?it/s]\u001b[A\n",
      "Sigma: 1.0000:  10%|█         | 1/10 [00:18<02:42, 18.03s/it]\u001b[A\n",
      "Sigma: 0.5995:  10%|█         | 1/10 [00:18<02:42, 18.03s/it]\u001b[A\n",
      "Sigma: 0.5995:  20%|██        | 2/10 [00:36<02:24, 18.07s/it]\u001b[A\n",
      "Sigma: 0.3594:  20%|██        | 2/10 [00:36<02:24, 18.07s/it]\u001b[A\n",
      "Sigma: 0.3594:  30%|███       | 3/10 [00:54<02:06, 18.10s/it]\u001b[A\n",
      "Sigma: 0.2154:  30%|███       | 3/10 [00:54<02:06, 18.10s/it]\u001b[A\n",
      "Sigma: 0.2154:  40%|████      | 4/10 [01:12<01:48, 18.12s/it]\u001b[A\n",
      "Sigma: 0.1292:  40%|████      | 4/10 [01:12<01:48, 18.12s/it]\u001b[A\n",
      "Sigma: 0.1292:  50%|█████     | 5/10 [01:30<01:30, 18.14s/it]\u001b[A\n",
      "Sigma: 0.0774:  50%|█████     | 5/10 [01:30<01:30, 18.14s/it]\u001b[A\n",
      "Sigma: 0.0774:  60%|██████    | 6/10 [01:48<01:12, 18.15s/it]\u001b[A\n",
      "Sigma: 0.0464:  60%|██████    | 6/10 [01:48<01:12, 18.15s/it]\u001b[A\n",
      "Sigma: 0.0464:  70%|███████   | 7/10 [02:07<00:54, 18.16s/it]\u001b[A\n",
      "Sigma: 0.0278:  70%|███████   | 7/10 [02:07<00:54, 18.16s/it]\u001b[A\n",
      "Sigma: 0.0278:  80%|████████  | 8/10 [02:25<00:36, 18.17s/it]\u001b[A\n",
      "Sigma: 0.0167:  80%|████████  | 8/10 [02:25<00:36, 18.17s/it]\u001b[A\n",
      "Sigma: 0.0167:  90%|█████████ | 9/10 [02:43<00:18, 18.17s/it]\u001b[A\n",
      "Sigma: 0.0100:  90%|█████████ | 9/10 [02:43<00:18, 18.17s/it]\u001b[A\n",
      "Sigma: 0.0100: 100%|██████████| 10/10 [03:01<00:00, 18.16s/it]\u001b[A\n",
      "Imagenet: : 2it [06:06, 183.83s/it]   \n",
      "  0%|          | 0/10 [00:00<?, ?it/s]\u001b[A\n",
      "Sigma: 1.0000:   0%|          | 0/10 [00:00<?, ?it/s]\u001b[A\n",
      "Sigma: 1.0000:  10%|█         | 1/10 [00:18<02:42, 18.02s/it]\u001b[A\n",
      "Sigma: 0.5995:  10%|█         | 1/10 [00:18<02:42, 18.02s/it]\u001b[A\n",
      "Sigma: 0.5995:  20%|██        | 2/10 [00:36<02:24, 18.07s/it]\u001b[A\n",
      "Sigma: 0.3594:  20%|██        | 2/10 [00:36<02:24, 18.07s/it]\u001b[A\n",
      "Sigma: 0.3594:  30%|███       | 3/10 [00:54<02:06, 18.11s/it]\u001b[A\n",
      "Sigma: 0.2154:  30%|███       | 3/10 [00:54<02:06, 18.11s/it]\u001b[A\n",
      "Sigma: 0.2154:  40%|████      | 4/10 [01:12<01:48, 18.14s/it]\u001b[A\n",
      "Sigma: 0.1292:  40%|████      | 4/10 [01:12<01:48, 18.14s/it]\u001b[A\n",
      "Sigma: 0.1292:  50%|█████     | 5/10 [01:30<01:30, 18.16s/it]\u001b[A\n",
      "Sigma: 0.0774:  50%|█████     | 5/10 [01:30<01:30, 18.16s/it]\u001b[A\n",
      "Sigma: 0.0774:  60%|██████    | 6/10 [01:49<01:12, 18.18s/it]\u001b[A\n",
      "Sigma: 0.0464:  60%|██████    | 6/10 [01:49<01:12, 18.18s/it]\u001b[A\n",
      "Sigma: 0.0464:  70%|███████   | 7/10 [02:07<00:54, 18.19s/it]\u001b[A\n",
      "Sigma: 0.0278:  70%|███████   | 7/10 [02:07<00:54, 18.19s/it]\u001b[A\n",
      "Sigma: 0.0278:  80%|████████  | 8/10 [02:25<00:36, 18.19s/it]\u001b[A\n",
      "Sigma: 0.0167:  80%|████████  | 8/10 [02:25<00:36, 18.19s/it]\u001b[A\n",
      "Sigma: 0.0167:  90%|█████████ | 9/10 [02:43<00:18, 18.20s/it]\u001b[A\n",
      "Sigma: 0.0100:  90%|█████████ | 9/10 [02:43<00:18, 18.20s/it]\u001b[A\n",
      "Sigma: 0.0100: 100%|██████████| 10/10 [03:01<00:00, 18.19s/it]\u001b[A\n",
      "Imagenet_resize: : 3it [09:08, 183.32s/it]\n",
      "  0%|          | 0/10 [00:00<?, ?it/s]\u001b[A\n",
      "Sigma: 1.0000:   0%|          | 0/10 [00:00<?, ?it/s]\u001b[A\n",
      "Sigma: 1.0000:  10%|█         | 1/10 [00:18<02:42, 18.06s/it]\u001b[A\n",
      "Sigma: 0.5995:  10%|█         | 1/10 [00:18<02:42, 18.06s/it]\u001b[A\n",
      "Sigma: 0.5995:  20%|██        | 2/10 [00:36<02:24, 18.10s/it]\u001b[A\n",
      "Sigma: 0.3594:  20%|██        | 2/10 [00:36<02:24, 18.10s/it]\u001b[A\n",
      "Sigma: 0.3594:  30%|███       | 3/10 [00:54<02:06, 18.13s/it]\u001b[A\n",
      "Sigma: 0.2154:  30%|███       | 3/10 [00:54<02:06, 18.13s/it]\u001b[A\n",
      "Sigma: 0.2154:  40%|████      | 4/10 [01:12<01:48, 18.15s/it]\u001b[A\n",
      "Sigma: 0.1292:  40%|████      | 4/10 [01:12<01:48, 18.15s/it]\u001b[A\n",
      "Sigma: 0.1292:  50%|█████     | 5/10 [01:30<01:30, 18.16s/it]\u001b[A\n",
      "Sigma: 0.0774:  50%|█████     | 5/10 [01:30<01:30, 18.16s/it]\u001b[A\n",
      "Sigma: 0.0774:  60%|██████    | 6/10 [01:49<01:12, 18.18s/it]\u001b[A\n",
      "Sigma: 0.0464:  60%|██████    | 6/10 [01:49<01:12, 18.18s/it]\u001b[A\n",
      "Sigma: 0.0464:  70%|███████   | 7/10 [02:07<00:54, 18.18s/it]\u001b[A\n",
      "Sigma: 0.0278:  70%|███████   | 7/10 [02:07<00:54, 18.18s/it]\u001b[A\n",
      "Sigma: 0.0278:  80%|████████  | 8/10 [02:25<00:36, 18.19s/it]\u001b[A\n",
      "Sigma: 0.0167:  80%|████████  | 8/10 [02:25<00:36, 18.19s/it]\u001b[A\n",
      "Sigma: 0.0167:  90%|█████████ | 9/10 [02:43<00:18, 18.19s/it]\u001b[A\n",
      "Sigma: 0.0100:  90%|█████████ | 9/10 [02:43<00:18, 18.19s/it]\u001b[A\n",
      "Sigma: 0.0100: 100%|██████████| 10/10 [03:01<00:00, 18.19s/it]\u001b[A\n",
      "iSUN: : 4it [12:10, 182.96s/it]           \n",
      "  0%|          | 0/10 [00:00<?, ?it/s]\u001b[A\n",
      "Sigma: 1.0000:   0%|          | 0/10 [00:00<?, ?it/s]\u001b[A\n",
      "Sigma: 1.0000:  10%|█         | 1/10 [00:17<02:39, 17.71s/it]\u001b[A\n",
      "Sigma: 0.5995:  10%|█         | 1/10 [00:17<02:39, 17.71s/it]\u001b[A\n",
      "Sigma: 0.5995:  20%|██        | 2/10 [00:33<02:18, 17.25s/it]\u001b[A\n",
      "Sigma: 0.3594:  20%|██        | 2/10 [00:33<02:18, 17.25s/it]\u001b[A\n",
      "Sigma: 0.3594:  30%|███       | 3/10 [00:50<01:58, 16.94s/it]\u001b[A\n",
      "Sigma: 0.2154:  30%|███       | 3/10 [00:50<01:58, 16.94s/it]\u001b[A\n",
      "Sigma: 0.2154:  40%|████      | 4/10 [01:06<01:40, 16.73s/it]\u001b[A\n",
      "Sigma: 0.1292:  40%|████      | 4/10 [01:06<01:40, 16.73s/it]\u001b[A\n",
      "Sigma: 0.1292:  50%|█████     | 5/10 [01:22<01:22, 16.58s/it]\u001b[A\n",
      "Sigma: 0.0774:  50%|█████     | 5/10 [01:22<01:22, 16.58s/it]\u001b[A\n",
      "Sigma: 0.0774:  60%|██████    | 6/10 [01:38<01:05, 16.48s/it]\u001b[A\n",
      "Sigma: 0.0464:  60%|██████    | 6/10 [01:38<01:05, 16.48s/it]\u001b[A\n",
      "Sigma: 0.0464:  70%|███████   | 7/10 [01:55<00:49, 16.41s/it]\u001b[A\n",
      "Sigma: 0.0278:  70%|███████   | 7/10 [01:55<00:49, 16.41s/it]\u001b[A\n",
      "Sigma: 0.0278:  80%|████████  | 8/10 [02:11<00:32, 16.36s/it]\u001b[A\n",
      "Sigma: 0.0167:  80%|████████  | 8/10 [02:11<00:32, 16.36s/it]\u001b[A\n",
      "Sigma: 0.0167:  90%|█████████ | 9/10 [02:27<00:16, 16.33s/it]\u001b[A\n",
      "Sigma: 0.0100:  90%|█████████ | 9/10 [02:27<00:16, 16.33s/it]\u001b[A\n",
      "Sigma: 0.0100: 100%|██████████| 10/10 [02:43<00:00, 16.38s/it]\u001b[A\n",
      "iSUN: : 5it [14:54, 178.97s/it]"
     ]
    },
    {
     "name": "stdout",
     "output_type": "stream",
     "text": [
      "CPU times: user 7min 37s, sys: 4min 15s, total: 11min 53s\n",
      "Wall time: 14min 54s\n"
     ]
    },
    {
     "name": "stderr",
     "output_type": "stream",
     "text": [
      "\n"
     ]
    }
   ],
   "source": [
    "%%time\n",
    "ood_dists = []\n",
    "progress_bar = tqdm(zip(datasets, test_ds))\n",
    "\n",
    "for name, outlier in progress_bar:\n",
    "    progress_bar.set_description(name)\n",
    "    ood_dists.append(compute_scores(model, outlier))"
   ]
  },
  {
   "cell_type": "code",
   "execution_count": 12,
   "metadata": {},
   "outputs": [
    {
     "name": "stdout",
     "output_type": "stream",
     "text": [
      "CPU times: user 1.3 s, sys: 274 ms, total: 1.57 s\n",
      "Wall time: 2.26 s\n"
     ]
    }
   ],
   "source": [
    "%%time\n",
    "scores = {}\n",
    "for name, ds in zip(datasets, ood_dists):\n",
    "#     scores[name] = weighted_norm(ds)\n",
    "    scores[name] = weighted_norm(ds)"
   ]
  },
  {
   "cell_type": "markdown",
   "metadata": {},
   "source": [
    "### Artificial Datasets"
   ]
  },
  {
   "cell_type": "code",
   "execution_count": 13,
   "metadata": {},
   "outputs": [],
   "source": [
    "TEST_BATCH = 500\n",
    "\n",
    "x = tf.random.normal(shape=(TEST_BATCH*20, 32,32,3) , mean=0.5, stddev=1.0)\n",
    "x = tf.clip_by_value(x, 0.0, 1.0)\n",
    "gaussian_test_batches = tf.split(x, 20)\n",
    "\n",
    "x = tf.random.uniform(shape=(TEST_BATCH*20, 32,32,3), minval=0.0, maxval=1.0)\n",
    "uniform_test_batches = tf.split(x, 20)"
   ]
  },
  {
   "cell_type": "code",
   "execution_count": 14,
   "metadata": {},
   "outputs": [],
   "source": [
    "artificial_ood = (gaussian_test_batches, uniform_test_batches)"
   ]
  },
  {
   "cell_type": "code",
   "execution_count": 15,
   "metadata": {},
   "outputs": [
    {
     "name": "stderr",
     "output_type": "stream",
     "text": [
      "Sigma: 0.0100: 100%|██████████| 10/10 [03:05<00:00, 18.55s/it]\n",
      "Sigma: 0.0100: 100%|██████████| 10/10 [03:03<00:00, 18.34s/it]"
     ]
    },
    {
     "name": "stdout",
     "output_type": "stream",
     "text": [
      "CPU times: user 2min 14s, sys: 1min 12s, total: 3min 27s\n",
      "Wall time: 6min 9s\n"
     ]
    },
    {
     "name": "stderr",
     "output_type": "stream",
     "text": [
      "\n"
     ]
    }
   ],
   "source": [
    "%%time\n",
    "for name, outlier in zip([\"gaussian\", \"uniform\"], artificial_ood):\n",
    "    score = compute_scores(model, outlier)\n",
    "#     scores[name] = weighted_norm(score)\n",
    "    scores[name] = full_norm(score)"
   ]
  },
  {
   "cell_type": "code",
   "execution_count": 17,
   "metadata": {},
   "outputs": [
    {
     "data": {
      "text/plain": [
       "dict_keys(['LSUN', 'LSUN_resize', 'Imagenet', 'Imagenet_resize', 'iSUN', 'gaussian', 'uniform'])"
      ]
     },
     "execution_count": 17,
     "metadata": {},
     "output_type": "execute_result"
    }
   ],
   "source": [
    "scores.keys()"
   ]
  },
  {
   "cell_type": "markdown",
   "metadata": {},
   "source": [
    "### CIFAR"
   ]
  },
  {
   "cell_type": "code",
   "execution_count": 17,
   "metadata": {},
   "outputs": [],
   "source": [
    "with tf.device('CPU'):\n",
    "    data_generators = tfds.load(name=\"cifar10\", batch_size=-1, data_dir=\"data\", shuffle_files=True)\n",
    "    cifar10_test = tf.data.Dataset.from_tensor_slices(data_generators['test'][\"image\"])\n",
    "    cifar10_test = cifar10_test.map(lambda x: x/255, num_parallel_calls=AUTOTUNE)\n",
    "    cifar10_test = cifar10_test.batch(512)"
   ]
  },
  {
   "cell_type": "code",
   "execution_count": 18,
   "metadata": {},
   "outputs": [
    {
     "name": "stderr",
     "output_type": "stream",
     "text": [
      "Sigma: 0.0100: 100%|██████████| 10/10 [03:01<00:00, 18.18s/it]"
     ]
    },
    {
     "name": "stdout",
     "output_type": "stream",
     "text": [
      "CPU times: user 1min 19s, sys: 46.9 s, total: 2min 5s\n",
      "Wall time: 3min 1s\n"
     ]
    },
    {
     "name": "stderr",
     "output_type": "stream",
     "text": [
      "\n"
     ]
    }
   ],
   "source": [
    "%%time\n",
    "cifar10_scores = compute_scores(model, cifar10_test)\n",
    "# cifar10_scores = weighted_norm(cifar10_scores)\n",
    "cifar10_scores = full_norm(cifar10_scores)"
   ]
  },
  {
   "cell_type": "code",
   "execution_count": 19,
   "metadata": {},
   "outputs": [],
   "source": [
    "scores[\"cifar\"] = cifar10_scores"
   ]
  },
  {
   "cell_type": "code",
   "execution_count": 26,
   "metadata": {},
   "outputs": [
    {
     "data": {
      "text/plain": [
       "dict_keys(['LSUN', 'LSUN_resize', 'Imagenet', 'Imagenet_resize', 'iSUN', 'gaussian', 'uniform', 'svhn'])"
      ]
     },
     "execution_count": 26,
     "metadata": {},
     "output_type": "execute_result"
    }
   ],
   "source": [
    "scores.keys()"
   ]
  },
  {
   "cell_type": "code",
   "execution_count": 25,
   "metadata": {},
   "outputs": [
    {
     "data": {
      "text/plain": [
       "[TensorShape([10000, 10]),\n",
       " TensorShape([10000, 10]),\n",
       " TensorShape([10000, 10]),\n",
       " TensorShape([10000, 10]),\n",
       " TensorShape([8925, 10]),\n",
       " TensorShape([10000, 10]),\n",
       " TensorShape([10000, 10]),\n",
       " TensorShape([26000, 10])]"
      ]
     },
     "execution_count": 25,
     "metadata": {},
     "output_type": "execute_result"
    }
   ],
   "source": [
    "[x.shape for x in scores.values()]"
   ]
  },
  {
   "cell_type": "code",
   "execution_count": 22,
   "metadata": {},
   "outputs": [],
   "source": [
    "import pickle\n",
    "\n",
    "with open(\"cifar10/ood_scores_full_norm.p\", \"wb\") as f:\n",
    "    pickle.dump(scores, f)"
   ]
  },
  {
   "cell_type": "markdown",
   "metadata": {},
   "source": [
    "### SVHN"
   ]
  },
  {
   "cell_type": "code",
   "execution_count": 21,
   "metadata": {},
   "outputs": [],
   "source": [
    "with tf.device('CPU'):\n",
    "    data_generators = tfds.load(name=\"svhn_cropped\", batch_size=-1, data_dir=\"data\", shuffle_files=True)\n",
    "    svhn_test = tf.data.Dataset.from_tensor_slices(data_generators['test'][\"image\"])\n",
    "    svhn_test = svhn_test.take(26000)\n",
    "    svhn_test = svhn_test.map(lambda x: x/255, num_parallel_calls=AUTOTUNE)\n",
    "    svhn_test = svhn_test.batch(260)"
   ]
  },
  {
   "cell_type": "code",
   "execution_count": 22,
   "metadata": {},
   "outputs": [
    {
     "name": "stderr",
     "output_type": "stream",
     "text": [
      "Sigma: 0.0100: 100%|██████████| 10/10 [07:56<00:00, 47.66s/it]\n"
     ]
    },
    {
     "name": "stdout",
     "output_type": "stream",
     "text": [
      "CPU times: user 4min 22s, sys: 1min 14s, total: 5min 37s\n",
      "Wall time: 7min 57s\n"
     ]
    }
   ],
   "source": [
    "%%time\n",
    "svhn_scores = compute_scores(model, svhn_test)\n",
    "svhn_scores = weighted_norm(svhn_scores)\n",
    "# svhn_scores = full_norm(svhn_scores)"
   ]
  },
  {
   "cell_type": "code",
   "execution_count": 23,
   "metadata": {},
   "outputs": [
    {
     "data": {
      "text/plain": [
       "TensorShape([26000, 10])"
      ]
     },
     "execution_count": 23,
     "metadata": {},
     "output_type": "execute_result"
    }
   ],
   "source": [
    "scores[\"svhn\"] = svhn_scores\n",
    "svhn_scores.shape"
   ]
  },
  {
   "cell_type": "code",
   "execution_count": 24,
   "metadata": {},
   "outputs": [],
   "source": [
    "with open(\"cifar10/ood_scores_95_5.p\", \"wb\") as f:\n",
    "    pickle.dump(scores, f)"
   ]
  },
  {
   "cell_type": "code",
   "execution_count": 22,
   "metadata": {},
   "outputs": [],
   "source": [
    "# with open(\"svhn/scores_full_norm_test.p\", \"wb\") as f:\n",
    "#     pickle.dump(svhn_scores, f)"
   ]
  },
  {
   "cell_type": "markdown",
   "metadata": {},
   "source": [
    "> ### 5% Held out Train"
   ]
  },
  {
   "cell_type": "code",
   "execution_count": null,
   "metadata": {},
   "outputs": [],
   "source": [
    "with tf.device('CPU'):\n",
    "    data_generators = tfds.load(name=\"svhn_cropped\", batch_size=-1, data_dir=\"data\", shuffle_files=True)\n",
    "    svhn_test = tf.data.Dataset.from_tensor_slices(data_generators['train[-5%:]'][\"image\"])\n",
    "    svhn_test = svhn_test.map(lambda x: x/255, num_parallel_calls=AUTOTUNE)\n",
    "    svhn_test = svhn_test.batch(260)"
   ]
  },
  {
   "cell_type": "markdown",
   "metadata": {},
   "source": [
    "### CIFAR 10.1"
   ]
  },
  {
   "cell_type": "code",
   "execution_count": 23,
   "metadata": {},
   "outputs": [],
   "source": [
    "with tf.device('CPU'):\n",
    "    data_generators = tfds.load(name=\"cifar10\", batch_size=-1, data_dir=\"data\", shuffle_files=True)\n",
    "    cifar101_test = tf.data.Dataset.from_tensor_slices(data_generators['test'][\"image\"])\n",
    "    cifar101_test = cifar101_test.map(lambda x: x/255, num_parallel_calls=AUTOTUNE)\n",
    "    cifar101_test = cifar101_test.batch(512)"
   ]
  },
  {
   "cell_type": "code",
   "execution_count": 24,
   "metadata": {},
   "outputs": [
    {
     "name": "stdout",
     "output_type": "stream",
     "text": [
      "(array([415, 783, 297, 227, 194, 150,  95, 354, 389, 168]), array([0.        , 0.08627451, 0.17254902, 0.25882354, 0.34509805,\n",
      "       0.43137255, 0.5176471 , 0.6039216 , 0.6901961 , 0.7764706 ,\n",
      "       0.8627451 ], dtype=float32))\n"
     ]
    },
    {
     "data": {
      "image/png": "[encoded data removed]",
      "text/plain": [
       "<Figure size 432x288 with 1 Axes>"
      ]
     },
     "metadata": {
      "needs_background": "light"
     },
     "output_type": "display_data"
    }
   ],
   "source": [
    "for imgs in cifar101_test.take(1):\n",
    "    print(np.histogram(imgs[0]))\n",
    "    plt.imshow(imgs[0].numpy())\n",
    "    plt.show()"
   ]
  },
  {
   "cell_type": "code",
   "execution_count": 25,
   "metadata": {},
   "outputs": [
    {
     "name": "stderr",
     "output_type": "stream",
     "text": [
      "Sigma: 0.0100: 100%|██████████| 10/10 [00:37<00:00,  3.75s/it]\n"
     ]
    },
    {
     "name": "stdout",
     "output_type": "stream",
     "text": [
      "CPU times: user 15.6 s, sys: 11 s, total: 26.7 s\n",
      "Wall time: 38.1 s\n"
     ]
    }
   ],
   "source": [
    "%%time\n",
    "cifar101_scores = compute_scores(model, cifar101_test)\n",
    "\n",
    "cifar101_scores = weighted_norm(cifar101_scores)"
   ]
  },
  {
   "cell_type": "code",
   "execution_count": 26,
   "metadata": {},
   "outputs": [],
   "source": [
    "with open(\"cifar101_scores_ckpt-20.p\", \"wb\") as f:\n",
    "    pickle.dump(cifar101_scores, f)"
   ]
  },
  {
   "cell_type": "code",
   "execution_count": null,
   "metadata": {},
   "outputs": [],
   "source": []
  }
 ],
 "metadata": {
  "kernelspec": {
   "display_name": "Python 3",
   "language": "python",
   "name": "python3"
  },
  "language_info": {
   "codemirror_mode": {
    "name": "ipython",
    "version": 3
   },
   "file_extension": ".py",
   "mimetype": "text/x-python",
   "name": "python",
   "nbconvert_exporter": "python",
   "pygments_lexer": "ipython3",
   "version": "3.6.9"
  }
 },
 "nbformat": 4,
 "nbformat_minor": 4
}
